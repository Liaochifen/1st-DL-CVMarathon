{
 "cells": [
  {
   "cell_type": "markdown",
   "metadata": {},
   "source": [
    "## Work\n",
    "1. 試改變 monitor \"Validation Accuracy\" 並比較結果\n",
    "2. 調整 earlystop 的等待次數至 10, 25 並比較結果"
   ]
  },
  {
   "cell_type": "code",
   "execution_count": 43,
   "metadata": {},
   "outputs": [],
   "source": [
    "import os\n",
    "import keras\n",
    "from keras.layers import BatchNormalization\n",
    "from keras.callbacks import EarlyStopping\n",
    "import matplotlib.pyplot as plt\n",
    "%matplotlib inline\n",
    "import warnings\n",
    "warnings.filterwarnings('ignore')\n",
    "\n",
    "# Disable GPU\n",
    "# os.environ[\"CUDA_VISIBLE_DEVICES\"] = \"\""
   ]
  },
  {
   "cell_type": "code",
   "execution_count": 44,
   "metadata": {},
   "outputs": [],
   "source": [
    "train, test = keras.datasets.cifar10.load_data()"
   ]
  },
  {
   "cell_type": "code",
   "execution_count": 45,
   "metadata": {},
   "outputs": [],
   "source": [
    "## 資料前處理\n",
    "def preproc_x(x, flatten=True):\n",
    "    x = x / 255.\n",
    "    if flatten:\n",
    "        x = x.reshape((len(x), -1))\n",
    "    return x\n",
    "\n",
    "def preproc_y(y, num_classes=10):\n",
    "    if y.shape[-1] == 1:\n",
    "        y = keras.utils.to_categorical(y, num_classes)\n",
    "    return y    "
   ]
  },
  {
   "cell_type": "code",
   "execution_count": 46,
   "metadata": {},
   "outputs": [],
   "source": [
    "x_train, y_train = train\n",
    "x_test, y_test = test\n",
    "\n",
    "# Preproc the inputs\n",
    "x_train = preproc_x(x_train)\n",
    "x_test = preproc_x(x_test)\n",
    "\n",
    "# Preprc the outputs\n",
    "y_train = preproc_y(y_train)\n",
    "y_test = preproc_y(y_test)"
   ]
  },
  {
   "cell_type": "code",
   "execution_count": 47,
   "metadata": {},
   "outputs": [],
   "source": [
    "def build_mlp(input_shape, output_units=10, num_neurons=[512, 256, 128]):\n",
    "    input_layer = keras.layers.Input(input_shape)\n",
    "    \n",
    "    for i, n_units in enumerate(num_neurons):\n",
    "        if i == 0:\n",
    "            x = keras.layers.Dense(units=n_units, \n",
    "                                   activation=\"relu\", \n",
    "                                   name=\"hidden_layer\"+str(i+1))(input_layer)\n",
    "            x = BatchNormalization()(x)\n",
    "        else:\n",
    "            x = keras.layers.Dense(units=n_units, \n",
    "                                   activation=\"relu\", \n",
    "                                   name=\"hidden_layer\"+str(i+1))(x)\n",
    "            x = BatchNormalization()(x)\n",
    "    \n",
    "    out = keras.layers.Dense(units=output_units, activation=\"softmax\", name=\"output\")(x)\n",
    "    \n",
    "    model = keras.models.Model(inputs=[input_layer], outputs=[out])\n",
    "    return model"
   ]
  },
  {
   "cell_type": "code",
   "execution_count": 48,
   "metadata": {},
   "outputs": [],
   "source": [
    "## 超參數設定\n",
    "LEARNING_RATE = 1e-3\n",
    "EPOCHS = 50\n",
    "BATCH_SIZE = 1024\n",
    "MOMENTUM = 0.95"
   ]
  },
  {
   "cell_type": "code",
   "execution_count": 52,
   "metadata": {},
   "outputs": [],
   "source": [
    "earlystop = EarlyStopping(monitor=\"val_accuracy\", \n",
    "                          patience=10, \n",
    "                          verbose=1,\n",
    "                          mode=\"max\",\n",
    "                          min_delta=0.003\n",
    "                          )"
   ]
  },
  {
   "cell_type": "code",
   "execution_count": 53,
   "metadata": {
    "scrolled": true
   },
   "outputs": [
    {
     "name": "stdout",
     "output_type": "stream",
     "text": [
      "Model: \"model_7\"\n",
      "_________________________________________________________________\n",
      "Layer (type)                 Output Shape              Param #   \n",
      "=================================================================\n",
      "input_7 (InputLayer)         (None, 3072)              0         \n",
      "_________________________________________________________________\n",
      "hidden_layer1 (Dense)        (None, 512)               1573376   \n",
      "_________________________________________________________________\n",
      "batch_normalization_19 (Batc (None, 512)               2048      \n",
      "_________________________________________________________________\n",
      "hidden_layer2 (Dense)        (None, 256)               131328    \n",
      "_________________________________________________________________\n",
      "batch_normalization_20 (Batc (None, 256)               1024      \n",
      "_________________________________________________________________\n",
      "hidden_layer3 (Dense)        (None, 128)               32896     \n",
      "_________________________________________________________________\n",
      "batch_normalization_21 (Batc (None, 128)               512       \n",
      "_________________________________________________________________\n",
      "output (Dense)               (None, 10)                1290      \n",
      "=================================================================\n",
      "Total params: 1,742,474\n",
      "Trainable params: 1,740,682\n",
      "Non-trainable params: 1,792\n",
      "_________________________________________________________________\n",
      "Train on 50000 samples, validate on 10000 samples\n",
      "Epoch 1/50\n",
      "50000/50000 [==============================] - 3s 56us/step - loss: 2.2375 - accuracy: 0.2674 - val_loss: 2.1493 - val_accuracy: 0.1914\n",
      "Epoch 2/50\n",
      "50000/50000 [==============================] - 2s 47us/step - loss: 1.7464 - accuracy: 0.3960 - val_loss: 1.9512 - val_accuracy: 0.3142\n",
      "Epoch 3/50\n",
      "50000/50000 [==============================] - 2s 47us/step - loss: 1.6218 - accuracy: 0.4354 - val_loss: 1.8292 - val_accuracy: 0.3556\n",
      "Epoch 4/50\n",
      "50000/50000 [==============================] - 2s 46us/step - loss: 1.5509 - accuracy: 0.4584 - val_loss: 1.7142 - val_accuracy: 0.4008\n",
      "Epoch 5/50\n",
      "50000/50000 [==============================] - 2s 46us/step - loss: 1.4928 - accuracy: 0.4814 - val_loss: 1.6597 - val_accuracy: 0.4118\n",
      "Epoch 6/50\n",
      "50000/50000 [==============================] - 2s 46us/step - loss: 1.4472 - accuracy: 0.4950 - val_loss: 1.6082 - val_accuracy: 0.4282\n",
      "Epoch 7/50\n",
      "50000/50000 [==============================] - 2s 46us/step - loss: 1.4068 - accuracy: 0.5118 - val_loss: 1.5563 - val_accuracy: 0.4498\n",
      "Epoch 8/50\n",
      "50000/50000 [==============================] - 2s 46us/step - loss: 1.3708 - accuracy: 0.5242 - val_loss: 1.5248 - val_accuracy: 0.4634\n",
      "Epoch 9/50\n",
      "50000/50000 [==============================] - 2s 46us/step - loss: 1.3381 - accuracy: 0.5353 - val_loss: 1.5136 - val_accuracy: 0.4666\n",
      "Epoch 10/50\n",
      "50000/50000 [==============================] - 2s 46us/step - loss: 1.3089 - accuracy: 0.5442 - val_loss: 1.4941 - val_accuracy: 0.4693\n",
      "Epoch 11/50\n",
      "50000/50000 [==============================] - 2s 46us/step - loss: 1.2804 - accuracy: 0.5563 - val_loss: 1.4982 - val_accuracy: 0.4665\n",
      "Epoch 12/50\n",
      "50000/50000 [==============================] - 2s 46us/step - loss: 1.2540 - accuracy: 0.5677 - val_loss: 1.4861 - val_accuracy: 0.4716\n",
      "Epoch 13/50\n",
      "50000/50000 [==============================] - 2s 46us/step - loss: 1.2264 - accuracy: 0.5761 - val_loss: 1.4838 - val_accuracy: 0.4784\n",
      "Epoch 14/50\n",
      "50000/50000 [==============================] - 2s 46us/step - loss: 1.2006 - accuracy: 0.5840 - val_loss: 1.4741 - val_accuracy: 0.4746\n",
      "Epoch 15/50\n",
      "50000/50000 [==============================] - 2s 46us/step - loss: 1.1765 - accuracy: 0.5946 - val_loss: 1.4738 - val_accuracy: 0.4809\n",
      "Epoch 16/50\n",
      "50000/50000 [==============================] - 2s 46us/step - loss: 1.1531 - accuracy: 0.6034 - val_loss: 1.4610 - val_accuracy: 0.4873\n",
      "Epoch 17/50\n",
      "50000/50000 [==============================] - 2s 46us/step - loss: 1.1295 - accuracy: 0.6111 - val_loss: 1.4611 - val_accuracy: 0.4888\n",
      "Epoch 18/50\n",
      "50000/50000 [==============================] - 2s 46us/step - loss: 1.1065 - accuracy: 0.6207 - val_loss: 1.4569 - val_accuracy: 0.4906\n",
      "Epoch 19/50\n",
      "50000/50000 [==============================] - 2s 46us/step - loss: 1.0835 - accuracy: 0.6291 - val_loss: 1.4656 - val_accuracy: 0.4893\n",
      "Epoch 20/50\n",
      "50000/50000 [==============================] - 2s 46us/step - loss: 1.0624 - accuracy: 0.6347 - val_loss: 1.4541 - val_accuracy: 0.4912\n",
      "Epoch 21/50\n",
      "50000/50000 [==============================] - 2s 46us/step - loss: 1.0407 - accuracy: 0.6437 - val_loss: 1.4590 - val_accuracy: 0.4906\n",
      "Epoch 22/50\n",
      "50000/50000 [==============================] - 2s 46us/step - loss: 1.0213 - accuracy: 0.6527 - val_loss: 1.4560 - val_accuracy: 0.4905\n",
      "Epoch 23/50\n",
      "50000/50000 [==============================] - 2s 46us/step - loss: 0.9987 - accuracy: 0.6622 - val_loss: 1.4602 - val_accuracy: 0.4938\n",
      "Epoch 24/50\n",
      "50000/50000 [==============================] - 2s 46us/step - loss: 0.9769 - accuracy: 0.6703 - val_loss: 1.4558 - val_accuracy: 0.4921\n",
      "Epoch 25/50\n",
      "50000/50000 [==============================] - 2s 46us/step - loss: 0.9561 - accuracy: 0.6770 - val_loss: 1.4612 - val_accuracy: 0.4909\n",
      "Epoch 26/50\n",
      "50000/50000 [==============================] - 2s 46us/step - loss: 0.9356 - accuracy: 0.6863 - val_loss: 1.4705 - val_accuracy: 0.4860\n",
      "Epoch 27/50\n",
      "50000/50000 [==============================] - 2s 46us/step - loss: 0.9155 - accuracy: 0.6939 - val_loss: 1.4910 - val_accuracy: 0.4899\n",
      "Epoch 28/50\n",
      "50000/50000 [==============================] - 2s 46us/step - loss: 0.8979 - accuracy: 0.7004 - val_loss: 1.4754 - val_accuracy: 0.4959\n",
      "Epoch 29/50\n",
      "50000/50000 [==============================] - 2s 46us/step - loss: 0.8749 - accuracy: 0.7102 - val_loss: 1.4897 - val_accuracy: 0.4929\n",
      "Epoch 30/50\n",
      "50000/50000 [==============================] - 2s 46us/step - loss: 0.8563 - accuracy: 0.7180 - val_loss: 1.4842 - val_accuracy: 0.4935\n",
      "Epoch 31/50\n",
      "50000/50000 [==============================] - 2s 46us/step - loss: 0.8338 - accuracy: 0.7262 - val_loss: 1.5063 - val_accuracy: 0.4878\n",
      "Epoch 32/50\n",
      "50000/50000 [==============================] - 2s 46us/step - loss: 0.8167 - accuracy: 0.7337 - val_loss: 1.4991 - val_accuracy: 0.4965\n",
      "Epoch 33/50\n",
      "50000/50000 [==============================] - 2s 46us/step - loss: 0.7960 - accuracy: 0.7432 - val_loss: 1.4960 - val_accuracy: 0.4933\n",
      "Epoch 00033: early stopping\n"
     ]
    }
   ],
   "source": [
    "model = build_mlp(input_shape=x_train.shape[1:])\n",
    "model.summary()\n",
    "optimizer = keras.optimizers.SGD(lr=LEARNING_RATE, nesterov=True, momentum=MOMENTUM)\n",
    "model.compile(loss=\"categorical_crossentropy\", metrics=[\"accuracy\"], optimizer=optimizer)\n",
    "\n",
    "model.fit(x_train, y_train, \n",
    "          epochs=EPOCHS, \n",
    "          batch_size=BATCH_SIZE, \n",
    "          validation_data=(x_test, y_test), \n",
    "          shuffle=True,\n",
    "          callbacks=[earlystop]\n",
    "         )\n",
    "\n",
    "# Collect results\n",
    "train_loss = model.history.history[\"loss\"]\n",
    "valid_loss = model.history.history[\"val_loss\"]\n",
    "train_acc = model.history.history[\"accuracy\"]\n",
    "valid_acc = model.history.history[\"val_accuracy\"]"
   ]
  },
  {
   "cell_type": "code",
   "execution_count": 54,
   "metadata": {},
   "outputs": [
    {
     "data": {
      "image/png": "[encoded data removed]",
      "text/plain": [
       "<Figure size 432x288 with 1 Axes>"
      ]
     },
     "metadata": {
      "needs_background": "light"
     },
     "output_type": "display_data"
    },
    {
     "data": {
      "image/png": "[encoded data removed]",
      "text/plain": [
       "<Figure size 432x288 with 1 Axes>"
      ]
     },
     "metadata": {
      "needs_background": "light"
     },
     "output_type": "display_data"
    }
   ],
   "source": [
    "plt.plot(range(len(train_loss)), train_loss, label=\"train loss\")\n",
    "plt.plot(range(len(valid_loss)), valid_loss, label=\"valid loss\")\n",
    "plt.legend()\n",
    "plt.title(\"Loss\")\n",
    "plt.show()\n",
    "\n",
    "plt.plot(range(len(train_acc)), train_acc, label=\"train accuracy\")\n",
    "plt.plot(range(len(valid_acc)), valid_acc, label=\"valid accuracy\")\n",
    "plt.legend()\n",
    "plt.title(\"Accuracy\")\n",
    "plt.show()"
   ]
  },
  {
   "cell_type": "code",
   "execution_count": null,
   "metadata": {},
   "outputs": [],
   "source": []
  }
 ],
 "metadata": {
  "kernelspec": {
   "display_name": "Python 3",
   "language": "python",
   "name": "python3"
  },
  "language_info": {
   "codemirror_mode": {
    "name": "ipython",
    "version": 3
   },
   "file_extension": ".py",
   "mimetype": "text/x-python",
   "name": "python",
   "nbconvert_exporter": "python",
   "pygments_lexer": "ipython3",
   "version": "3.7.6"
  }
 },
 "nbformat": 4,
 "nbformat_minor": 4
}
