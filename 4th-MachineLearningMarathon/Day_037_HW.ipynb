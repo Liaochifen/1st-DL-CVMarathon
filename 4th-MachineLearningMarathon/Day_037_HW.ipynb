{
 "cells": [
  {
   "cell_type": "markdown",
   "metadata": {},
   "source": [
    "## [作業重點]\n",
    "了解線性回歸的模型發展歷程，並了解優勢與劣勢，以及其使用情境"
   ]
  },
  {
   "cell_type": "markdown",
   "metadata": {},
   "source": [
    "## 作業"
   ]
  },
  {
   "cell_type": "markdown",
   "metadata": {},
   "source": [
    "請閱讀以下相關文獻，並回答以下問題\n",
    "\n",
    "[Linear Regression 詳細介紹](https://brohrer.mcknote.com/zh-Hant/how_machine_learning_works/how_linear_regression_works.html)\n",
    "\n",
    "[Logistics Regression 詳細介紹](https://medium.com/@yehjames/%E8%B3%87%E6%96%99%E5%88%86%E6%9E%90-%E6%A9%9F%E5%99%A8%E5%AD%B8%E7%BF%92-%E7%AC%AC3-3%E8%AC%9B-%E7%B7%9A%E6%80%A7%E5%88%86%E9%A1%9E-%E9%82%8F%E8%BC%AF%E6%96%AF%E5%9B%9E%E6%AD%B8-logistic-regression-%E4%BB%8B%E7%B4%B9-a1a5f47017e5)\n"
   ]
  },
  {
   "cell_type": "markdown",
   "metadata": {},
   "source": [
    "1. 線性回歸模型能夠準確預測非線性關係的資料集嗎?\n",
    "    - Ans: 線性回歸 Linear regression 無法準確預測非線性的資料集，當資料具有非線性的關係時，Linear Regression 的表現會變差。Logistic Regression 雖然是廣義的線性模型，但經過 Sigmoid 函數以及 kernel trick，是可以解決非線性問題的。\n",
    "2. 回歸模型是否對資料分布有基本假設?\n",
    "    - Ans: 有。例如 Logistic Regression 假設資料符合伯努力分布\n",
    "    - 通常對資料有五個基本假設。當然現今模型有許多技巧即使資料不符合基本假設一樣能夠訓練，但對模型使用的基本限制有一定的了解能夠幫助你找出訓練不佳的問題是什麼。 參考：[回歸分析的五個基本假設](https://blog.csdn.net/Noob_daniel/article/details/76087829)\n"
   ]
  }
 ],
 "metadata": {
  "kernelspec": {
   "display_name": "Python 3",
   "language": "python",
   "name": "python3"
  },
  "language_info": {
   "codemirror_mode": {
    "name": "ipython",
    "version": 3
   },
   "file_extension": ".py",
   "mimetype": "text/x-python",
   "name": "python",
   "nbconvert_exporter": "python",
   "pygments_lexer": "ipython3",
   "version": "3.7.1"
  }
 },
 "nbformat": 4,
 "nbformat_minor": 2
}
