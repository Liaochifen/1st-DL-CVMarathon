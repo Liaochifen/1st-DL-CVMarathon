{
 "cells": [
  {
   "cell_type": "markdown",
   "metadata": {},
   "source": [
    "## Work\n",
    "1. 請嘗試寫一個 callback 用來記錄各類別在訓練過程中，對驗證集的 True Positive 與 True Negative"
   ]
  },
  {
   "cell_type": "code",
   "execution_count": 28,
   "metadata": {},
   "outputs": [],
   "source": [
    "import os\n",
    "import keras\n",
    "\n",
    "# Disable GPU\n",
    "os.environ[\"CUDA_VISIBLE_DEVICES\"] = \"\""
   ]
  },
  {
   "cell_type": "code",
   "execution_count": 29,
   "metadata": {},
   "outputs": [],
   "source": [
    "train, test = keras.datasets.cifar10.load_data()"
   ]
  },
  {
   "cell_type": "code",
   "execution_count": 30,
   "metadata": {},
   "outputs": [],
   "source": [
    "## 資料前處理\n",
    "def preproc_x(x, flatten=True):\n",
    "    x = x / 255.\n",
    "    if flatten:\n",
    "        x = x.reshape((len(x), -1))\n",
    "    return x\n",
    "\n",
    "def preproc_y(y, num_classes=10):\n",
    "    if y.shape[-1] == 1:\n",
    "        y = keras.utils.to_categorical(y, num_classes)\n",
    "    return y"
   ]
  },
  {
   "cell_type": "code",
   "execution_count": 31,
   "metadata": {},
   "outputs": [],
   "source": [
    "x_train, y_train = train\n",
    "x_test, y_test = test\n",
    "\n",
    "# Preproc the inputs\n",
    "x_train = preproc_x(x_train)\n",
    "x_test = preproc_x(x_test)\n",
    "\n",
    "# Preprc the outputs\n",
    "y_train = preproc_y(y_train)\n",
    "y_test = preproc_y(y_test)"
   ]
  },
  {
   "cell_type": "code",
   "execution_count": 32,
   "metadata": {},
   "outputs": [],
   "source": [
    "from keras.layers import BatchNormalization\n",
    "\n",
    "def build_mlp(input_shape, output_units=10, num_neurons=[512, 256, 128]):\n",
    "    input_layer = keras.layers.Input(input_shape)\n",
    "    \n",
    "    for i, n_units in enumerate(num_neurons):\n",
    "        if i == 0:\n",
    "            x = keras.layers.Dense(units=n_units, \n",
    "                                   activation=\"relu\", \n",
    "                                   name=\"hidden_layer\"+str(i+1))(input_layer)\n",
    "            x = BatchNormalization()(x)\n",
    "        else:\n",
    "            x = keras.layers.Dense(units=n_units, \n",
    "                                   activation=\"relu\", \n",
    "                                   name=\"hidden_layer\"+str(i+1))(x)\n",
    "            x = BatchNormalization()(x)\n",
    "    \n",
    "    out = keras.layers.Dense(units=output_units, activation=\"softmax\", name=\"output\")(x)\n",
    "    \n",
    "    model = keras.models.Model(inputs=[input_layer], outputs=[out])\n",
    "    return model"
   ]
  },
  {
   "cell_type": "code",
   "execution_count": 33,
   "metadata": {},
   "outputs": [],
   "source": [
    "## 超參數設定\n",
    "LEARNING_RATE = 1e-3\n",
    "EPOCHS = 25\n",
    "BATCH_SIZE = 1024\n",
    "MOMENTUM = 0.95"
   ]
  },
  {
   "cell_type": "code",
   "execution_count": 34,
   "metadata": {},
   "outputs": [],
   "source": [
    "# 載入 Callbacks\n",
    "from keras.callbacks import Callback\n",
    "\n",
    "# Record_fp_tp\n",
    "class Record_tp_tn(Callback):\n",
    "    \"\"\"Code Here\n",
    "    撰寫一個紀錄 ture positive 與 true negative 數量的 callbacks    \n",
    "    \"\"\"\n",
    "    def on_train_begin(self, epoch, logs={}):\n",
    "        logs = logs or {}\n",
    "        record_items = [\"tp\", \"tn\"]\n",
    "        for i in record_items:\n",
    "            if i not in self.params['metrics']:\n",
    "                self.params['metrics'].append(i)\n",
    "                \n",
    "    def on_epoch_end(self, epoch, logs={}, thres=0.5):\n",
    "        logs = logs or {}\n",
    "        y_true = self.validation_data[1].argmax(axis = 1)\n",
    "        y_predict = self.model.predict(self.validation_data[0])\n",
    "        y_predict = (y_predict[:, 1] >= thres) * 1\n",
    "        \n",
    "        tp = sum(y_true*y_predict)\n",
    "        tn = sum((y_true==0) & (y_predict==0))\n",
    "        \n",
    "        logs[\"tp\"] = tp\n",
    "        logs[\"tn\"] = tn\n",
    "                \n",
    "rec_tptn = Record_tp_tn()"
   ]
  },
  {
   "cell_type": "code",
   "execution_count": 36,
   "metadata": {
    "scrolled": true
   },
   "outputs": [
    {
     "name": "stdout",
     "output_type": "stream",
     "text": [
      "Model: \"model_3\"\n",
      "_________________________________________________________________\n",
      "Layer (type)                 Output Shape              Param #   \n",
      "=================================================================\n",
      "input_3 (InputLayer)         (None, 3072)              0         \n",
      "_________________________________________________________________\n",
      "hidden_layer1 (Dense)        (None, 512)               1573376   \n",
      "_________________________________________________________________\n",
      "batch_normalization_7 (Batch (None, 512)               2048      \n",
      "_________________________________________________________________\n",
      "hidden_layer2 (Dense)        (None, 256)               131328    \n",
      "_________________________________________________________________\n",
      "batch_normalization_8 (Batch (None, 256)               1024      \n",
      "_________________________________________________________________\n",
      "hidden_layer3 (Dense)        (None, 128)               32896     \n",
      "_________________________________________________________________\n",
      "batch_normalization_9 (Batch (None, 128)               512       \n",
      "_________________________________________________________________\n",
      "output (Dense)               (None, 10)                1290      \n",
      "=================================================================\n",
      "Total params: 1,742,474\n",
      "Trainable params: 1,740,682\n",
      "Non-trainable params: 1,792\n",
      "_________________________________________________________________\n",
      "Train on 50000 samples, validate on 10000 samples\n",
      "Epoch 1/25\n",
      "50000/50000 [==============================] - 8s 155us/step - loss: 2.2433 - accuracy: 0.2633 - val_loss: 2.1369 - val_accuracy: 0.2139\n",
      "Epoch 2/25\n",
      "50000/50000 [==============================] - 6s 120us/step - loss: 1.7604 - accuracy: 0.3866 - val_loss: 1.9672 - val_accuracy: 0.3122\n",
      "Epoch 3/25\n",
      "50000/50000 [==============================] - 6s 123us/step - loss: 1.6306 - accuracy: 0.4283 - val_loss: 1.8082 - val_accuracy: 0.3826\n",
      "Epoch 4/25\n",
      "50000/50000 [==============================] - 6s 120us/step - loss: 1.5557 - accuracy: 0.4557 - val_loss: 1.7184 - val_accuracy: 0.3974\n",
      "Epoch 5/25\n",
      "50000/50000 [==============================] - 6s 120us/step - loss: 1.4996 - accuracy: 0.4768 - val_loss: 1.6494 - val_accuracy: 0.4247\n",
      "Epoch 6/25\n",
      "50000/50000 [==============================] - 6s 120us/step - loss: 1.4528 - accuracy: 0.4935 - val_loss: 1.5979 - val_accuracy: 0.4400\n",
      "Epoch 7/25\n",
      "50000/50000 [==============================] - 6s 120us/step - loss: 1.4139 - accuracy: 0.5069 - val_loss: 1.5728 - val_accuracy: 0.4373\n",
      "Epoch 8/25\n",
      "50000/50000 [==============================] - 6s 120us/step - loss: 1.3773 - accuracy: 0.5194 - val_loss: 1.5394 - val_accuracy: 0.4576\n",
      "Epoch 9/25\n",
      "50000/50000 [==============================] - 6s 122us/step - loss: 1.3443 - accuracy: 0.5309 - val_loss: 1.5103 - val_accuracy: 0.4620\n",
      "Epoch 10/25\n",
      "50000/50000 [==============================] - 6s 120us/step - loss: 1.3137 - accuracy: 0.5441 - val_loss: 1.5061 - val_accuracy: 0.4676\n",
      "Epoch 11/25\n",
      "50000/50000 [==============================] - 6s 121us/step - loss: 1.2856 - accuracy: 0.5565 - val_loss: 1.4880 - val_accuracy: 0.4784\n",
      "Epoch 12/25\n",
      "50000/50000 [==============================] - 6s 120us/step - loss: 1.2594 - accuracy: 0.5631 - val_loss: 1.4938 - val_accuracy: 0.4693\n",
      "Epoch 13/25\n",
      "50000/50000 [==============================] - 6s 120us/step - loss: 1.2324 - accuracy: 0.5732 - val_loss: 1.4809 - val_accuracy: 0.4757\n",
      "Epoch 14/25\n",
      "50000/50000 [==============================] - 6s 122us/step - loss: 1.2089 - accuracy: 0.5814 - val_loss: 1.4840 - val_accuracy: 0.4794\n",
      "Epoch 15/25\n",
      "50000/50000 [==============================] - 6s 122us/step - loss: 1.1840 - accuracy: 0.5932 - val_loss: 1.4700 - val_accuracy: 0.4857\n",
      "Epoch 16/25\n",
      "50000/50000 [==============================] - 6s 121us/step - loss: 1.1611 - accuracy: 0.6008 - val_loss: 1.4612 - val_accuracy: 0.4841\n",
      "Epoch 17/25\n",
      "50000/50000 [==============================] - 6s 121us/step - loss: 1.1358 - accuracy: 0.6098 - val_loss: 1.4766 - val_accuracy: 0.4849\n",
      "Epoch 18/25\n",
      "50000/50000 [==============================] - 6s 121us/step - loss: 1.1160 - accuracy: 0.6182 - val_loss: 1.4587 - val_accuracy: 0.4842\n",
      "Epoch 19/25\n",
      "50000/50000 [==============================] - 6s 120us/step - loss: 1.0943 - accuracy: 0.6246 - val_loss: 1.4537 - val_accuracy: 0.4876\n",
      "Epoch 20/25\n",
      "50000/50000 [==============================] - 6s 124us/step - loss: 1.0706 - accuracy: 0.6358 - val_loss: 1.4635 - val_accuracy: 0.4840\n",
      "Epoch 21/25\n",
      "50000/50000 [==============================] - 6s 122us/step - loss: 1.0509 - accuracy: 0.6429 - val_loss: 1.4819 - val_accuracy: 0.4869\n",
      "Epoch 22/25\n",
      "50000/50000 [==============================] - 6s 121us/step - loss: 1.0291 - accuracy: 0.6513 - val_loss: 1.4557 - val_accuracy: 0.4936\n",
      "Epoch 23/25\n",
      "50000/50000 [==============================] - 6s 121us/step - loss: 1.0073 - accuracy: 0.6592 - val_loss: 1.4603 - val_accuracy: 0.4962\n",
      "Epoch 24/25\n",
      "50000/50000 [==============================] - 6s 121us/step - loss: 0.9858 - accuracy: 0.6687 - val_loss: 1.4546 - val_accuracy: 0.4970\n",
      "Epoch 25/25\n",
      "50000/50000 [==============================] - 6s 122us/step - loss: 0.9675 - accuracy: 0.6735 - val_loss: 1.4584 - val_accuracy: 0.5012\n"
     ]
    }
   ],
   "source": [
    "model = build_mlp(input_shape=x_train.shape[1:])\n",
    "model.summary()\n",
    "optimizer = keras.optimizers.SGD(lr=LEARNING_RATE, nesterov=True, momentum=MOMENTUM)\n",
    "model.compile(loss=\"categorical_crossentropy\", metrics=[\"accuracy\"], optimizer=optimizer)\n",
    "\n",
    "\"\"\"Code Here\n",
    "將 callbacks 放入模型訓練流程中\n",
    "\"\"\"\n",
    "model.fit(x_train, y_train, \n",
    "          epochs=EPOCHS, \n",
    "          batch_size=BATCH_SIZE, \n",
    "          validation_data=(x_test, y_test), \n",
    "          shuffle=True,\n",
    "          callbacks=[rec_tptn]\n",
    "         )\n",
    "\n",
    "# Collect results\n",
    "train_loss = model.history.history[\"loss\"]\n",
    "valid_loss = model.history.history[\"val_loss\"]\n",
    "train_acc = model.history.history[\"accuracy\"]\n",
    "valid_acc = model.history.history[\"val_accuracy\"]\n",
    "\n",
    "\"\"\"Code Here\n",
    "將 tp/tn 從訓練完的模型中取出\n",
    "\"\"\"\n",
    "valid_tp = model.history.history['tp']\n",
    "valid_tn = model.history.history['tn']"
   ]
  },
  {
   "cell_type": "code",
   "execution_count": 37,
   "metadata": {},
   "outputs": [
    {
     "data": {
      "image/png": "[encoded data removed]",
      "text/plain": [
       "<Figure size 432x288 with 1 Axes>"
      ]
     },
     "metadata": {
      "needs_background": "light"
     },
     "output_type": "display_data"
    },
    {
     "data": {
      "image/png": "[encoded data removed]",
      "text/plain": [
       "<Figure size 432x288 with 1 Axes>"
      ]
     },
     "metadata": {
      "needs_background": "light"
     },
     "output_type": "display_data"
    },
    {
     "data": {
      "image/png": "[encoded data removed]",
      "text/plain": [
       "<Figure size 432x288 with 1 Axes>"
      ]
     },
     "metadata": {
      "needs_background": "light"
     },
     "output_type": "display_data"
    }
   ],
   "source": [
    "import matplotlib.pyplot as plt\n",
    "%matplotlib inline\n",
    "\n",
    "plt.plot(range(len(train_loss)), train_loss, label=\"train loss\")\n",
    "plt.plot(range(len(valid_loss)), valid_loss, label=\"valid loss\")\n",
    "plt.legend()\n",
    "plt.title(\"Loss\")\n",
    "plt.show()\n",
    "\n",
    "plt.plot(range(len(train_acc)), train_acc, label=\"train accuracy\")\n",
    "plt.plot(range(len(valid_acc)), valid_acc, label=\"valid accuracy\")\n",
    "plt.legend()\n",
    "plt.title(\"Accuracy\")\n",
    "plt.show()\n",
    "\n",
    "plt.plot(range(len(valid_tp)), valid_tp, label=\"valid tp\", color=\"navy\")\n",
    "plt.plot(range(len(valid_tn)), valid_tn, label=\"valid tn\", color=\"red\")\n",
    "plt.legend()\n",
    "plt.title(\"True positives and True Negatives\")\n",
    "plt.show()\n"
   ]
  }
 ],
 "metadata": {
  "kernelspec": {
   "display_name": "Python 3",
   "language": "python",
   "name": "python3"
  },
  "language_info": {
   "codemirror_mode": {
    "name": "ipython",
    "version": 3
   },
   "file_extension": ".py",
   "mimetype": "text/x-python",
   "name": "python",
   "nbconvert_exporter": "python",
   "pygments_lexer": "ipython3",
   "version": "3.7.6"
  }
 },
 "nbformat": 4,
 "nbformat_minor": 2
}
