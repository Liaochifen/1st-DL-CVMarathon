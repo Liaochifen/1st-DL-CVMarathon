{
 "cells": [
  {
   "cell_type": "markdown",
   "metadata": {},
   "source": [
    "## Work\n",
    "1. 請嘗試將 preproc_x 替換成以每筆資料的 min/max 進行標準化至 -1 ~ 1 間，再進行訓練\n",
    "2. 請嘗試將 mlp 疊更深 (e.g 5~10 層)，進行訓練後觀察 learning curve 的走勢\n",
    "3. (optional) 請改用 GPU 進行訓練 (如果你有 GPU 的話)，比較使用 CPU 與 GPU 的訓練速度"
   ]
  },
  {
   "cell_type": "code",
   "execution_count": 25,
   "metadata": {},
   "outputs": [],
   "source": [
    "import os\n",
    "import keras\n",
    "from sklearn.preprocessing import MinMaxScaler\n",
    "\n",
    "# 請嘗試設定 GPU：os.environ\n",
    "os.environ[\"CUDA_VISIBLE_DEVICES\"] = \"\""
   ]
  },
  {
   "cell_type": "code",
   "execution_count": 26,
   "metadata": {},
   "outputs": [],
   "source": [
    "train, test = keras.datasets.cifar10.load_data()"
   ]
  },
  {
   "cell_type": "code",
   "execution_count": 27,
   "metadata": {},
   "outputs": [],
   "source": [
    "## 資料前處理\n",
    "def preproc_x(x):\n",
    "    scaler = MinMaxScaler(feature_range = (-1, 1))\n",
    "    x = x.reshape((len(x), -1))\n",
    "    scaler.fit(x)\n",
    "    x = scaler.transform(x)\n",
    "\n",
    "    return x\n",
    "\n",
    "def preproc_y(y, num_classes=10):\n",
    "    if y.shape[-1] == 1:\n",
    "        y = keras.utils.to_categorical(y, num_classes)\n",
    "    return y"
   ]
  },
  {
   "cell_type": "code",
   "execution_count": 28,
   "metadata": {},
   "outputs": [],
   "source": [
    "x_train, y_train = train\n",
    "x_test, y_test = test\n",
    "\n",
    "# Preproc the inputs\n",
    "x_train = preproc_x(x_train)\n",
    "x_test = preproc_x(x_test)\n",
    "\n",
    "# Preprc the outputs\n",
    "y_train = preproc_y(y_train)\n",
    "y_test = preproc_y(y_test)"
   ]
  },
  {
   "cell_type": "code",
   "execution_count": 32,
   "metadata": {},
   "outputs": [
    {
     "name": "stdout",
     "output_type": "stream",
     "text": [
      "Model: \"model_1\"\n",
      "_________________________________________________________________\n",
      "Layer (type)                 Output Shape              Param #   \n",
      "=================================================================\n",
      "input_1 (InputLayer)         (None, 3072)              0         \n",
      "_________________________________________________________________\n",
      "hidden_layer1 (Dense)        (None, 512)               1573376   \n",
      "_________________________________________________________________\n",
      "hidden_layer2 (Dense)        (None, 256)               131328    \n",
      "_________________________________________________________________\n",
      "hidden_layer3 (Dense)        (None, 128)               32896     \n",
      "_________________________________________________________________\n",
      "hidden_layer4 (Dense)        (None, 64)                8256      \n",
      "_________________________________________________________________\n",
      "hidden_layer5 (Dense)        (None, 32)                2080      \n",
      "_________________________________________________________________\n",
      "hidden_layer6 (Dense)        (None, 16)                528       \n",
      "_________________________________________________________________\n",
      "output (Dense)               (None, 10)                170       \n",
      "=================================================================\n",
      "Total params: 1,748,634\n",
      "Trainable params: 1,748,634\n",
      "Non-trainable params: 0\n",
      "_________________________________________________________________\n"
     ]
    }
   ],
   "source": [
    "def build_mlp(input_shape, output_units=10, num_neurons=[512, 256, 128, 64, 32, 16]):\n",
    "    input_layer = keras.layers.Input(input_shape)\n",
    "    \n",
    "    for i, n_units in enumerate(num_neurons):\n",
    "        if i == 0:\n",
    "            x = keras.layers.Dense(units=n_units, activation=\"relu\", name=\"hidden_layer\"+str(i+1))(input_layer)\n",
    "        else:\n",
    "            x = keras.layers.Dense(units=n_units, activation=\"relu\", name=\"hidden_layer\"+str(i+1))(x)\n",
    "    \n",
    "    out = keras.layers.Dense(units=output_units, activation=\"softmax\", name=\"output\")(x)\n",
    "    \n",
    "    model = keras.models.Model(inputs=[input_layer], outputs=[out])\n",
    "    return model\n",
    "\n",
    "model = build_mlp(input_shape=x_train.shape[1:])\n",
    "model.summary()"
   ]
  },
  {
   "cell_type": "code",
   "execution_count": 33,
   "metadata": {},
   "outputs": [],
   "source": [
    "## 超參數設定\n",
    "LEARNING_RATE = 0.001\n",
    "EPOCHS = 100\n",
    "BATCH_SIZE = 256"
   ]
  },
  {
   "cell_type": "code",
   "execution_count": 34,
   "metadata": {},
   "outputs": [],
   "source": [
    "optimizer = keras.optimizers.Adam(lr=LEARNING_RATE)\n",
    "model.compile(loss=\"categorical_crossentropy\", metrics=[\"accuracy\"], optimizer=optimizer)"
   ]
  },
  {
   "cell_type": "code",
   "execution_count": 35,
   "metadata": {
    "scrolled": true
   },
   "outputs": [
    {
     "name": "stdout",
     "output_type": "stream",
     "text": [
      "Train on 50000 samples, validate on 10000 samples\n",
      "Epoch 1/100\n",
      "50000/50000 [==============================] - 10s 205us/step - loss: 1.8271 - accuracy: 0.3549 - val_loss: 1.5955 - val_accuracy: 0.4386\n",
      "Epoch 2/100\n",
      "50000/50000 [==============================] - 10s 194us/step - loss: 1.5441 - accuracy: 0.4560 - val_loss: 1.4928 - val_accuracy: 0.4675\n",
      "Epoch 3/100\n",
      "50000/50000 [==============================] - 9s 188us/step - loss: 1.4175 - accuracy: 0.5007 - val_loss: 1.4267 - val_accuracy: 0.4935\n",
      "Epoch 4/100\n",
      "50000/50000 [==============================] - 9s 187us/step - loss: 1.3231 - accuracy: 0.5343 - val_loss: 1.3900 - val_accuracy: 0.5102\n",
      "Epoch 5/100\n",
      "50000/50000 [==============================] - 10s 205us/step - loss: 1.2363 - accuracy: 0.5675 - val_loss: 1.3821 - val_accuracy: 0.5198\n",
      "Epoch 6/100\n",
      "50000/50000 [==============================] - 13s 250us/step - loss: 1.1538 - accuracy: 0.5946 - val_loss: 1.3642 - val_accuracy: 0.5270\n",
      "Epoch 7/100\n",
      "50000/50000 [==============================] - 10s 203us/step - loss: 1.0832 - accuracy: 0.6181 - val_loss: 1.3895 - val_accuracy: 0.5295\n",
      "Epoch 8/100\n",
      "50000/50000 [==============================] - 10s 195us/step - loss: 1.0175 - accuracy: 0.6430 - val_loss: 1.3780 - val_accuracy: 0.5310\n",
      "Epoch 9/100\n",
      "50000/50000 [==============================] - 10s 201us/step - loss: 0.9369 - accuracy: 0.6704 - val_loss: 1.4012 - val_accuracy: 0.5356\n",
      "Epoch 10/100\n",
      "50000/50000 [==============================] - 10s 201us/step - loss: 0.8763 - accuracy: 0.6904 - val_loss: 1.4312 - val_accuracy: 0.5352\n",
      "Epoch 11/100\n",
      "50000/50000 [==============================] - 10s 199us/step - loss: 0.8139 - accuracy: 0.7109 - val_loss: 1.4969 - val_accuracy: 0.5269\n",
      "Epoch 12/100\n",
      "50000/50000 [==============================] - 10s 192us/step - loss: 0.7531 - accuracy: 0.7308 - val_loss: 1.5291 - val_accuracy: 0.5246\n",
      "Epoch 13/100\n",
      "50000/50000 [==============================] - 10s 191us/step - loss: 0.6962 - accuracy: 0.7527 - val_loss: 1.5904 - val_accuracy: 0.5307\n",
      "Epoch 14/100\n",
      "50000/50000 [==============================] - 10s 194us/step - loss: 0.6500 - accuracy: 0.7692 - val_loss: 1.6456 - val_accuracy: 0.5317\n",
      "Epoch 15/100\n",
      "50000/50000 [==============================] - 10s 193us/step - loss: 0.5866 - accuracy: 0.7927 - val_loss: 1.7122 - val_accuracy: 0.5296\n",
      "Epoch 16/100\n",
      "50000/50000 [==============================] - 10s 193us/step - loss: 0.5441 - accuracy: 0.8089 - val_loss: 1.8296 - val_accuracy: 0.5225\n",
      "Epoch 17/100\n",
      "50000/50000 [==============================] - 10s 194us/step - loss: 0.5001 - accuracy: 0.8254 - val_loss: 1.8672 - val_accuracy: 0.5406\n",
      "Epoch 18/100\n",
      "50000/50000 [==============================] - 10s 194us/step - loss: 0.4631 - accuracy: 0.8376 - val_loss: 2.0249 - val_accuracy: 0.5271\n",
      "Epoch 19/100\n",
      "50000/50000 [==============================] - 10s 193us/step - loss: 0.4293 - accuracy: 0.8498 - val_loss: 2.0240 - val_accuracy: 0.5264\n",
      "Epoch 20/100\n",
      "50000/50000 [==============================] - 10s 197us/step - loss: 0.3950 - accuracy: 0.8624 - val_loss: 2.1036 - val_accuracy: 0.5270\n",
      "Epoch 21/100\n",
      "50000/50000 [==============================] - 10s 193us/step - loss: 0.3638 - accuracy: 0.8716 - val_loss: 2.2065 - val_accuracy: 0.5292\n",
      "Epoch 22/100\n",
      "50000/50000 [==============================] - 10s 196us/step - loss: 0.3336 - accuracy: 0.8835 - val_loss: 2.3518 - val_accuracy: 0.5285\n",
      "Epoch 23/100\n",
      "50000/50000 [==============================] - 10s 192us/step - loss: 0.3221 - accuracy: 0.8886 - val_loss: 2.3393 - val_accuracy: 0.5227\n",
      "Epoch 24/100\n",
      "50000/50000 [==============================] - 10s 194us/step - loss: 0.2880 - accuracy: 0.8989 - val_loss: 2.6010 - val_accuracy: 0.5283\n",
      "Epoch 25/100\n",
      "50000/50000 [==============================] - 10s 194us/step - loss: 0.2830 - accuracy: 0.9007 - val_loss: 2.5775 - val_accuracy: 0.5292\n",
      "Epoch 26/100\n",
      "50000/50000 [==============================] - 10s 192us/step - loss: 0.2628 - accuracy: 0.9094 - val_loss: 2.6421 - val_accuracy: 0.5332\n",
      "Epoch 27/100\n",
      "50000/50000 [==============================] - 10s 193us/step - loss: 0.2515 - accuracy: 0.9131 - val_loss: 2.7144 - val_accuracy: 0.5323\n",
      "Epoch 28/100\n",
      "50000/50000 [==============================] - 10s 195us/step - loss: 0.2301 - accuracy: 0.9200 - val_loss: 2.8174 - val_accuracy: 0.5330\n",
      "Epoch 29/100\n",
      "50000/50000 [==============================] - 10s 194us/step - loss: 0.2506 - accuracy: 0.9133 - val_loss: 2.8340 - val_accuracy: 0.5295\n",
      "Epoch 30/100\n",
      "50000/50000 [==============================] - 11s 212us/step - loss: 0.2113 - accuracy: 0.9281 - val_loss: 2.8613 - val_accuracy: 0.5374\n",
      "Epoch 31/100\n",
      "50000/50000 [==============================] - 10s 195us/step - loss: 0.2106 - accuracy: 0.9274 - val_loss: 2.8591 - val_accuracy: 0.5188\n",
      "Epoch 32/100\n",
      "50000/50000 [==============================] - 10s 193us/step - loss: 0.1899 - accuracy: 0.9357 - val_loss: 2.9669 - val_accuracy: 0.5312\n",
      "Epoch 33/100\n",
      "50000/50000 [==============================] - 10s 195us/step - loss: 0.2010 - accuracy: 0.9312 - val_loss: 3.1153 - val_accuracy: 0.5314\n",
      "Epoch 34/100\n",
      "50000/50000 [==============================] - 10s 194us/step - loss: 0.1764 - accuracy: 0.9393 - val_loss: 3.1708 - val_accuracy: 0.5247\n",
      "Epoch 35/100\n",
      "50000/50000 [==============================] - 10s 209us/step - loss: 0.1644 - accuracy: 0.9444 - val_loss: 3.3173 - val_accuracy: 0.5305\n",
      "Epoch 36/100\n",
      "50000/50000 [==============================] - 11s 223us/step - loss: 0.1621 - accuracy: 0.9455 - val_loss: 3.3659 - val_accuracy: 0.5226\n",
      "Epoch 37/100\n",
      "50000/50000 [==============================] - 10s 199us/step - loss: 0.1896 - accuracy: 0.9352 - val_loss: 3.1850 - val_accuracy: 0.5274\n",
      "Epoch 38/100\n",
      "50000/50000 [==============================] - 10s 201us/step - loss: 0.1613 - accuracy: 0.9463 - val_loss: 3.2777 - val_accuracy: 0.5321\n",
      "Epoch 39/100\n",
      "50000/50000 [==============================] - 10s 196us/step - loss: 0.1406 - accuracy: 0.9518 - val_loss: 3.3437 - val_accuracy: 0.5303\n",
      "Epoch 40/100\n",
      "50000/50000 [==============================] - 9s 182us/step - loss: 0.1411 - accuracy: 0.9518 - val_loss: 3.3591 - val_accuracy: 0.5309\n",
      "Epoch 41/100\n",
      "50000/50000 [==============================] - 9s 180us/step - loss: 0.1531 - accuracy: 0.9484 - val_loss: 3.3969 - val_accuracy: 0.5227\n",
      "Epoch 42/100\n",
      "50000/50000 [==============================] - 9s 180us/step - loss: 0.1289 - accuracy: 0.9575 - val_loss: 3.6242 - val_accuracy: 0.5255\n",
      "Epoch 43/100\n",
      "50000/50000 [==============================] - 9s 184us/step - loss: 0.1506 - accuracy: 0.9497 - val_loss: 3.5468 - val_accuracy: 0.5346\n",
      "Epoch 44/100\n",
      "50000/50000 [==============================] - 9s 184us/step - loss: 0.1418 - accuracy: 0.9522 - val_loss: 3.5527 - val_accuracy: 0.5235\n",
      "Epoch 45/100\n",
      "50000/50000 [==============================] - 9s 182us/step - loss: 0.1392 - accuracy: 0.9544 - val_loss: 3.4524 - val_accuracy: 0.5268\n",
      "Epoch 46/100\n",
      "50000/50000 [==============================] - 9s 186us/step - loss: 0.1231 - accuracy: 0.9591 - val_loss: 3.5620 - val_accuracy: 0.5244\n",
      "Epoch 47/100\n",
      "50000/50000 [==============================] - 9s 184us/step - loss: 0.1311 - accuracy: 0.9557 - val_loss: 3.5360 - val_accuracy: 0.5315\n",
      "Epoch 48/100\n",
      "50000/50000 [==============================] - 9s 183us/step - loss: 0.1147 - accuracy: 0.9617 - val_loss: 3.6180 - val_accuracy: 0.5183\n",
      "Epoch 49/100\n",
      "50000/50000 [==============================] - 9s 180us/step - loss: 0.1202 - accuracy: 0.9598 - val_loss: 3.7224 - val_accuracy: 0.5253\n",
      "Epoch 50/100\n",
      "50000/50000 [==============================] - 9s 178us/step - loss: 0.1171 - accuracy: 0.9601 - val_loss: 3.8499 - val_accuracy: 0.5326\n",
      "Epoch 51/100\n",
      "50000/50000 [==============================] - 9s 184us/step - loss: 0.1157 - accuracy: 0.9617 - val_loss: 3.7678 - val_accuracy: 0.5277\n",
      "Epoch 52/100\n",
      "50000/50000 [==============================] - 9s 183us/step - loss: 0.1124 - accuracy: 0.9630 - val_loss: 3.7834 - val_accuracy: 0.5293\n",
      "Epoch 53/100\n",
      "50000/50000 [==============================] - 9s 177us/step - loss: 0.1313 - accuracy: 0.9571 - val_loss: 3.7618 - val_accuracy: 0.5288\n",
      "Epoch 54/100\n",
      "50000/50000 [==============================] - 10s 191us/step - loss: 0.1119 - accuracy: 0.9625 - val_loss: 3.8118 - val_accuracy: 0.5305\n",
      "Epoch 55/100\n"
     ]
    },
    {
     "name": "stdout",
     "output_type": "stream",
     "text": [
      "50000/50000 [==============================] - 9s 187us/step - loss: 0.1068 - accuracy: 0.9646 - val_loss: 3.9237 - val_accuracy: 0.5286\n",
      "Epoch 56/100\n",
      "50000/50000 [==============================] - 9s 189us/step - loss: 0.0961 - accuracy: 0.9668 - val_loss: 3.8480 - val_accuracy: 0.5286\n",
      "Epoch 57/100\n",
      "50000/50000 [==============================] - 9s 179us/step - loss: 0.1057 - accuracy: 0.9642 - val_loss: 3.8441 - val_accuracy: 0.5287\n",
      "Epoch 58/100\n",
      "50000/50000 [==============================] - 9s 176us/step - loss: 0.1102 - accuracy: 0.9630 - val_loss: 3.8020 - val_accuracy: 0.5268\n",
      "Epoch 59/100\n",
      "50000/50000 [==============================] - 9s 182us/step - loss: 0.0931 - accuracy: 0.9692 - val_loss: 3.8657 - val_accuracy: 0.5306\n",
      "Epoch 60/100\n",
      "50000/50000 [==============================] - 9s 188us/step - loss: 0.0974 - accuracy: 0.9670 - val_loss: 4.0547 - val_accuracy: 0.5228\n",
      "Epoch 61/100\n",
      "50000/50000 [==============================] - 9s 184us/step - loss: 0.1145 - accuracy: 0.9625 - val_loss: 3.8199 - val_accuracy: 0.5242\n",
      "Epoch 62/100\n",
      "50000/50000 [==============================] - 9s 175us/step - loss: 0.0921 - accuracy: 0.9689 - val_loss: 3.9873 - val_accuracy: 0.5261\n",
      "Epoch 63/100\n",
      "50000/50000 [==============================] - 9s 189us/step - loss: 0.0927 - accuracy: 0.9698 - val_loss: 4.0339 - val_accuracy: 0.5279\n",
      "Epoch 64/100\n",
      "50000/50000 [==============================] - 9s 188us/step - loss: 0.1077 - accuracy: 0.9652 - val_loss: 3.8702 - val_accuracy: 0.5260\n",
      "Epoch 65/100\n",
      "50000/50000 [==============================] - 9s 175us/step - loss: 0.0898 - accuracy: 0.9701 - val_loss: 4.0881 - val_accuracy: 0.5272\n",
      "Epoch 66/100\n",
      "50000/50000 [==============================] - 9s 175us/step - loss: 0.0860 - accuracy: 0.9721 - val_loss: 4.0734 - val_accuracy: 0.5271\n",
      "Epoch 67/100\n",
      "50000/50000 [==============================] - 9s 176us/step - loss: 0.0964 - accuracy: 0.9681 - val_loss: 3.9813 - val_accuracy: 0.5276\n",
      "Epoch 68/100\n",
      "50000/50000 [==============================] - 9s 174us/step - loss: 0.0893 - accuracy: 0.9709 - val_loss: 4.0025 - val_accuracy: 0.5285\n",
      "Epoch 69/100\n",
      "50000/50000 [==============================] - 9s 174us/step - loss: 0.0714 - accuracy: 0.9766 - val_loss: 4.3842 - val_accuracy: 0.5240\n",
      "Epoch 70/100\n",
      "50000/50000 [==============================] - 9s 174us/step - loss: 0.1099 - accuracy: 0.9640 - val_loss: 4.0207 - val_accuracy: 0.5284\n",
      "Epoch 71/100\n",
      "50000/50000 [==============================] - 9s 174us/step - loss: 0.0797 - accuracy: 0.9740 - val_loss: 4.1719 - val_accuracy: 0.5301\n",
      "Epoch 72/100\n",
      "50000/50000 [==============================] - 9s 175us/step - loss: 0.0911 - accuracy: 0.9700 - val_loss: 4.0743 - val_accuracy: 0.5244\n",
      "Epoch 73/100\n",
      "50000/50000 [==============================] - 9s 175us/step - loss: 0.0835 - accuracy: 0.9726 - val_loss: 4.3683 - val_accuracy: 0.5243\n",
      "Epoch 74/100\n",
      "50000/50000 [==============================] - 9s 174us/step - loss: 0.0780 - accuracy: 0.9737 - val_loss: 4.1917 - val_accuracy: 0.5252\n",
      "Epoch 75/100\n",
      "50000/50000 [==============================] - 9s 174us/step - loss: 0.0771 - accuracy: 0.9746 - val_loss: 4.3550 - val_accuracy: 0.5263\n",
      "Epoch 76/100\n",
      "50000/50000 [==============================] - 9s 175us/step - loss: 0.0841 - accuracy: 0.9727 - val_loss: 4.1302 - val_accuracy: 0.5233\n",
      "Epoch 77/100\n",
      "50000/50000 [==============================] - 9s 174us/step - loss: 0.0793 - accuracy: 0.9741 - val_loss: 4.2328 - val_accuracy: 0.5315\n",
      "Epoch 78/100\n",
      "50000/50000 [==============================] - 9s 175us/step - loss: 0.0813 - accuracy: 0.9728 - val_loss: 4.2853 - val_accuracy: 0.5208\n",
      "Epoch 79/100\n",
      "50000/50000 [==============================] - 9s 174us/step - loss: 0.0817 - accuracy: 0.9738 - val_loss: 4.1242 - val_accuracy: 0.5242\n",
      "Epoch 80/100\n",
      "50000/50000 [==============================] - 9s 174us/step - loss: 0.0799 - accuracy: 0.9737 - val_loss: 4.2928 - val_accuracy: 0.5251\n",
      "Epoch 81/100\n",
      "50000/50000 [==============================] - 9s 174us/step - loss: 0.0675 - accuracy: 0.9782 - val_loss: 4.3999 - val_accuracy: 0.5276\n",
      "Epoch 82/100\n",
      "50000/50000 [==============================] - 9s 174us/step - loss: 0.0620 - accuracy: 0.9799 - val_loss: 4.2565 - val_accuracy: 0.5334\n",
      "Epoch 83/100\n",
      "50000/50000 [==============================] - 9s 175us/step - loss: 0.0886 - accuracy: 0.9719 - val_loss: 4.1857 - val_accuracy: 0.5250\n",
      "Epoch 84/100\n",
      "50000/50000 [==============================] - 9s 174us/step - loss: 0.0663 - accuracy: 0.9782 - val_loss: 4.2445 - val_accuracy: 0.5291\n",
      "Epoch 85/100\n",
      "50000/50000 [==============================] - 9s 176us/step - loss: 0.0826 - accuracy: 0.9739 - val_loss: 4.1772 - val_accuracy: 0.5212\n",
      "Epoch 86/100\n",
      "50000/50000 [==============================] - 9s 175us/step - loss: 0.0716 - accuracy: 0.9765 - val_loss: 4.3593 - val_accuracy: 0.5245\n",
      "Epoch 87/100\n",
      "50000/50000 [==============================] - 9s 177us/step - loss: 0.0853 - accuracy: 0.9731 - val_loss: 4.2680 - val_accuracy: 0.5186\n",
      "Epoch 88/100\n",
      "50000/50000 [==============================] - 9s 185us/step - loss: 0.0688 - accuracy: 0.9772 - val_loss: 4.3184 - val_accuracy: 0.5387\n",
      "Epoch 89/100\n",
      "50000/50000 [==============================] - 9s 185us/step - loss: 0.0560 - accuracy: 0.9813 - val_loss: 4.3963 - val_accuracy: 0.5254\n",
      "Epoch 90/100\n",
      "50000/50000 [==============================] - 9s 187us/step - loss: 0.0811 - accuracy: 0.9737 - val_loss: 4.3245 - val_accuracy: 0.5243\n",
      "Epoch 91/100\n",
      "50000/50000 [==============================] - 9s 190us/step - loss: 0.0573 - accuracy: 0.9815 - val_loss: 4.6121 - val_accuracy: 0.5305\n",
      "Epoch 92/100\n",
      "50000/50000 [==============================] - 10s 194us/step - loss: 0.0557 - accuracy: 0.9819 - val_loss: 4.4726 - val_accuracy: 0.5123\n",
      "Epoch 93/100\n",
      "50000/50000 [==============================] - 10s 193us/step - loss: 0.0836 - accuracy: 0.9728 - val_loss: 4.2758 - val_accuracy: 0.5181\n",
      "Epoch 94/100\n",
      "50000/50000 [==============================] - 10s 196us/step - loss: 0.0801 - accuracy: 0.9736 - val_loss: 4.3667 - val_accuracy: 0.5308\n",
      "Epoch 95/100\n",
      "50000/50000 [==============================] - 11s 213us/step - loss: 0.0633 - accuracy: 0.9795 - val_loss: 4.3614 - val_accuracy: 0.5187\n",
      "Epoch 96/100\n",
      "50000/50000 [==============================] - 10s 198us/step - loss: 0.0479 - accuracy: 0.9843 - val_loss: 4.5961 - val_accuracy: 0.5304\n",
      "Epoch 97/100\n",
      "50000/50000 [==============================] - 9s 186us/step - loss: 0.0556 - accuracy: 0.9825 - val_loss: 4.5072 - val_accuracy: 0.5287\n",
      "Epoch 98/100\n",
      "50000/50000 [==============================] - 9s 181us/step - loss: 0.0826 - accuracy: 0.9738 - val_loss: 4.3583 - val_accuracy: 0.5176\n",
      "Epoch 99/100\n",
      "50000/50000 [==============================] - 9s 183us/step - loss: 0.0726 - accuracy: 0.9759 - val_loss: 4.3180 - val_accuracy: 0.5268\n",
      "Epoch 100/100\n",
      "50000/50000 [==============================] - 9s 178us/step - loss: 0.0624 - accuracy: 0.9807 - val_loss: 4.3670 - val_accuracy: 0.5302\n"
     ]
    },
    {
     "data": {
      "text/plain": [
       "<keras.callbacks.callbacks.History at 0x1e60051e148>"
      ]
     },
     "execution_count": 35,
     "metadata": {},
     "output_type": "execute_result"
    }
   ],
   "source": [
    "model.fit(x_train, y_train, \n",
    "          epochs=EPOCHS, \n",
    "          batch_size=BATCH_SIZE, \n",
    "          validation_data=(x_test, y_test), \n",
    "          shuffle=True)"
   ]
  },
  {
   "cell_type": "code",
   "execution_count": 36,
   "metadata": {},
   "outputs": [
    {
     "data": {
      "image/png": "[encoded data removed]",
      "text/plain": [
       "<Figure size 432x288 with 1 Axes>"
      ]
     },
     "metadata": {
      "needs_background": "light"
     },
     "output_type": "display_data"
    },
    {
     "data": {
      "image/png": "[encoded data removed]",
      "text/plain": [
       "<Figure size 432x288 with 1 Axes>"
      ]
     },
     "metadata": {
      "needs_background": "light"
     },
     "output_type": "display_data"
    }
   ],
   "source": [
    "import matplotlib.pyplot as plt\n",
    "\n",
    "\n",
    "train_loss = model.history.history[\"loss\"]\n",
    "valid_loss = model.history.history[\"val_loss\"]\n",
    "\n",
    "train_acc = model.history.history[\"accuracy\"]\n",
    "valid_acc = model.history.history[\"val_accuracy\"]\n",
    "\n",
    "plt.plot(range(len(train_loss)), train_loss, label=\"train loss\")\n",
    "plt.plot(range(len(valid_loss)), valid_loss, label=\"valid loss\")\n",
    "plt.legend()\n",
    "plt.title(\"Loss\")\n",
    "plt.show()\n",
    "\n",
    "plt.plot(range(len(train_acc)), train_acc, label=\"train accuracy\")\n",
    "plt.plot(range(len(valid_acc)), valid_acc, label=\"valid accuracy\")\n",
    "plt.legend()\n",
    "plt.title(\"Accuracy\")\n",
    "plt.show()"
   ]
  }
 ],
 "metadata": {
  "kernelspec": {
   "display_name": "Python 3",
   "language": "python",
   "name": "python3"
  },
  "language_info": {
   "codemirror_mode": {
    "name": "ipython",
    "version": 3
   },
   "file_extension": ".py",
   "mimetype": "text/x-python",
   "name": "python",
   "nbconvert_exporter": "python",
   "pygments_lexer": "ipython3",
   "version": "3.7.6"
  }
 },
 "nbformat": 4,
 "nbformat_minor": 2
}
