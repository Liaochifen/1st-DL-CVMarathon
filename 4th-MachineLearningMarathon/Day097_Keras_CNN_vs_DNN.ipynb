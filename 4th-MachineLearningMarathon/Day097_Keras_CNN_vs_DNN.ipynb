{
 "cells": [
  {
   "cell_type": "code",
   "execution_count": 12,
   "metadata": {},
   "outputs": [],
   "source": [
    "import tensorflow as tf\n",
    "import keras\n",
    "from keras import regularizers\n",
    "from keras.datasets import cifar10\n",
    "from keras.preprocessing.image import ImageDataGenerator\n",
    "from keras.models import Sequential\n",
    "from keras.layers import Dense, Dropout, Activation, Flatten\n",
    "from keras.layers import Conv2D, MaxPooling2D, BatchNormalization\n",
    "from keras.optimizers import RMSprop, Adam\n",
    "from keras.callbacks import ReduceLROnPlateau\n",
    "import os"
   ]
  },
  {
   "cell_type": "code",
   "execution_count": 13,
   "metadata": {},
   "outputs": [],
   "source": [
    "# 自動增長 GPU 記憶體用量\n",
    "gpu_options = tf.compat.v1.GPUOptions(allow_growth=True, per_process_gpu_memory_fraction=0.7)\n",
    "sess = tf.compat.v1.Session(config=tf.compat.v1.ConfigProto(gpu_options=gpu_options))\n",
    "\n",
    "# 設定 Keras 使用的 Session\n",
    "# tf.keras.backend.set_session(sess)\n",
    "tf.compat.v1.keras.backend.set_session(sess)"
   ]
  },
  {
   "cell_type": "code",
   "execution_count": 14,
   "metadata": {},
   "outputs": [
    {
     "name": "stdout",
     "output_type": "stream",
     "text": [
      "x_train shape: (50000, 32, 32, 3)\n",
      "50000 train samples\n",
      "10000 test samples\n"
     ]
    }
   ],
   "source": [
    "batch_size = 128 # batch 的大小，如果出現 OOM error，請降低這個值\n",
    "num_classes = 10 # 類別的數量，Cifar 10 共有 10 個類別\n",
    "epochs = 10 # 訓練的 epochs 數量\n",
    "\n",
    "# 讀取資料並檢視\n",
    "(x_train, y_train), (x_test, y_test) = cifar10.load_data()\n",
    "print('x_train shape:', x_train.shape)\n",
    "print(x_train.shape[0], 'train samples')\n",
    "print(x_test.shape[0], 'test samples')\n",
    "\n",
    "# 對 label 進行 one-hot encoding (y_trian 原本是純數字)\n",
    "y_train = keras.utils.to_categorical(y_train, num_classes)\n",
    "y_test = keras.utils.to_categorical(y_test, num_classes)"
   ]
  },
  {
   "cell_type": "markdown",
   "metadata": {},
   "source": [
    "## 首先我們使用一般的 DNN (MLP) 來訓練\n",
    "由於 DNN 只能輸入一維的資料，我們要先將影像進行攤平，若 (50000, 32, 32, 3) 的影像，攤平後會變成 (50000, 32*32*3) = (50000, 3072)"
   ]
  },
  {
   "cell_type": "code",
   "execution_count": 15,
   "metadata": {},
   "outputs": [
    {
     "name": "stdout",
     "output_type": "stream",
     "text": [
      "50000 train samples\n",
      "10000 test samples\n"
     ]
    }
   ],
   "source": [
    "# 將資料攤平成一維資料\n",
    "x_train = x_train.reshape(50000, 3072) \n",
    "x_test = x_test.reshape(10000, 3072)\n",
    "\n",
    "# 將資料變為 float32 並標準化\n",
    "x_train = x_train.astype('float32')\n",
    "x_test = x_test.astype('float32')\n",
    "x_train /= 255\n",
    "x_test /= 255\n",
    "print(x_train.shape[0], 'train samples')\n",
    "print(x_test.shape[0], 'test samples')"
   ]
  },
  {
   "cell_type": "code",
   "execution_count": 16,
   "metadata": {
    "scrolled": false
   },
   "outputs": [
    {
     "name": "stdout",
     "output_type": "stream",
     "text": [
      "Model: \"sequential_1\"\n",
      "_________________________________________________________________\n",
      "Layer (type)                 Output Shape              Param #   \n",
      "=================================================================\n",
      "dense_1 (Dense)              (None, 512)               1573376   \n",
      "_________________________________________________________________\n",
      "dropout_1 (Dropout)          (None, 512)               0         \n",
      "_________________________________________________________________\n",
      "dense_2 (Dense)              (None, 512)               262656    \n",
      "_________________________________________________________________\n",
      "dropout_2 (Dropout)          (None, 512)               0         \n",
      "_________________________________________________________________\n",
      "dense_3 (Dense)              (None, 10)                5130      \n",
      "=================================================================\n",
      "Total params: 1,841,162\n",
      "Trainable params: 1,841,162\n",
      "Non-trainable params: 0\n",
      "_________________________________________________________________\n",
      "Train on 50000 samples, validate on 10000 samples\n",
      "Epoch 1/10\n",
      "50000/50000 [==============================] - 6s 114us/step - loss: 2.1474 - accuracy: 0.2462 - val_loss: 1.8378 - val_accuracy: 0.3350\n",
      "Epoch 2/10\n",
      "50000/50000 [==============================] - 6s 111us/step - loss: 1.8585 - accuracy: 0.3297 - val_loss: 1.8211 - val_accuracy: 0.3284\n",
      "Epoch 3/10\n",
      "50000/50000 [==============================] - 6s 113us/step - loss: 1.7811 - accuracy: 0.3584 - val_loss: 1.7444 - val_accuracy: 0.3697\n",
      "Epoch 4/10\n",
      "50000/50000 [==============================] - 6s 111us/step - loss: 1.7369 - accuracy: 0.3793 - val_loss: 1.6468 - val_accuracy: 0.4147\n",
      "Epoch 5/10\n",
      "50000/50000 [==============================] - 6s 112us/step - loss: 1.6946 - accuracy: 0.3924 - val_loss: 1.6105 - val_accuracy: 0.4316\n",
      "Epoch 6/10\n",
      "50000/50000 [==============================] - 6s 111us/step - loss: 1.6683 - accuracy: 0.4012 - val_loss: 1.5861 - val_accuracy: 0.4430\n",
      "Epoch 7/10\n",
      "50000/50000 [==============================] - 6s 111us/step - loss: 1.6442 - accuracy: 0.4120 - val_loss: 1.6411 - val_accuracy: 0.4115\n",
      "Epoch 8/10\n",
      "50000/50000 [==============================] - 6s 111us/step - loss: 1.6271 - accuracy: 0.4171 - val_loss: 1.5674 - val_accuracy: 0.4463\n",
      "Epoch 9/10\n",
      "50000/50000 [==============================] - 6s 111us/step - loss: 1.6108 - accuracy: 0.4206 - val_loss: 1.5393 - val_accuracy: 0.4610\n",
      "Epoch 10/10\n",
      "50000/50000 [==============================] - 6s 111us/step - loss: 1.5949 - accuracy: 0.4305 - val_loss: 1.5603 - val_accuracy: 0.4503\n",
      "Test loss: 1.5602560821533202\n",
      "Test accuracy: 0.450300008058548\n"
     ]
    }
   ],
   "source": [
    "model = Sequential()\n",
    "model.add(Dense(512, activation='relu', input_shape=(3072,)))\n",
    "model.add(Dropout(0.2))\n",
    "model.add(Dense(512, activation='relu'))\n",
    "model.add(Dropout(0.2))\n",
    "model.add(Dense(num_classes, activation='softmax'))\n",
    "\n",
    "model.summary()\n",
    "\n",
    "model.compile(loss='categorical_crossentropy',\n",
    "              optimizer=RMSprop(),\n",
    "              metrics=['accuracy'])\n",
    "\n",
    "history = model.fit(x_train, y_train,\n",
    "                    batch_size=batch_size,\n",
    "                    epochs=epochs,\n",
    "                    verbose=1,\n",
    "                    validation_data=(x_test, y_test))\n",
    "score = model.evaluate(x_test, y_test, verbose=0)\n",
    "print('Test loss:', score[0])\n",
    "print('Test accuracy:', score[1])"
   ]
  },
  {
   "cell_type": "markdown",
   "metadata": {},
   "source": [
    "## 接下來我們使用 CNN 來訓練神經網路\n",
    "CNN 的原理非常適合處理影像類的資料，就讓我們來看看，同樣的訓練條件，CNN 是否顯著優於 DNN 呢?"
   ]
  },
  {
   "cell_type": "code",
   "execution_count": 34,
   "metadata": {},
   "outputs": [
    {
     "name": "stdout",
     "output_type": "stream",
     "text": [
      "x_train shape: (50000, 32, 32, 3)\n",
      "50000 train samples\n",
      "10000 test samples\n"
     ]
    }
   ],
   "source": [
    "(x_train, y_train), (x_test, y_test) = cifar10.load_data()\n",
    "print('x_train shape:', x_train.shape)\n",
    "print(x_train.shape[0], 'train samples')\n",
    "print(x_test.shape[0], 'test samples')\n",
    "x_train = x_train.astype('float32')\n",
    "x_test = x_test.astype('float32')\n",
    "x_train /= 255\n",
    "x_test /= 255\n",
    "\n",
    "# Convert class vectors to binary class matrices.\n",
    "y_train = keras.utils.to_categorical(y_train, num_classes)\n",
    "y_test = keras.utils.to_categorical(y_test, num_classes)"
   ]
  },
  {
   "cell_type": "code",
   "execution_count": 40,
   "metadata": {
    "scrolled": true
   },
   "outputs": [
    {
     "name": "stdout",
     "output_type": "stream",
     "text": [
      "Model: \"sequential_16\"\n",
      "_________________________________________________________________\n",
      "Layer (type)                 Output Shape              Param #   \n",
      "=================================================================\n",
      "conv2d_59 (Conv2D)           (None, 32, 32, 32)        896       \n",
      "_________________________________________________________________\n",
      "activation_80 (Activation)   (None, 32, 32, 32)        0         \n",
      "_________________________________________________________________\n",
      "batch_normalization_28 (Batc (None, 32, 32, 32)        128       \n",
      "_________________________________________________________________\n",
      "conv2d_60 (Conv2D)           (None, 30, 30, 32)        9248      \n",
      "_________________________________________________________________\n",
      "activation_81 (Activation)   (None, 30, 30, 32)        0         \n",
      "_________________________________________________________________\n",
      "batch_normalization_29 (Batc (None, 30, 30, 32)        128       \n",
      "_________________________________________________________________\n",
      "max_pooling2d_28 (MaxPooling (None, 15, 15, 32)        0         \n",
      "_________________________________________________________________\n",
      "dropout_40 (Dropout)         (None, 15, 15, 32)        0         \n",
      "_________________________________________________________________\n",
      "conv2d_61 (Conv2D)           (None, 15, 15, 64)        18496     \n",
      "_________________________________________________________________\n",
      "activation_82 (Activation)   (None, 15, 15, 64)        0         \n",
      "_________________________________________________________________\n",
      "batch_normalization_30 (Batc (None, 15, 15, 64)        256       \n",
      "_________________________________________________________________\n",
      "conv2d_62 (Conv2D)           (None, 13, 13, 64)        36928     \n",
      "_________________________________________________________________\n",
      "activation_83 (Activation)   (None, 13, 13, 64)        0         \n",
      "_________________________________________________________________\n",
      "batch_normalization_31 (Batc (None, 13, 13, 64)        256       \n",
      "_________________________________________________________________\n",
      "max_pooling2d_29 (MaxPooling (None, 6, 6, 64)          0         \n",
      "_________________________________________________________________\n",
      "dropout_41 (Dropout)         (None, 6, 6, 64)          0         \n",
      "_________________________________________________________________\n",
      "flatten_13 (Flatten)         (None, 2304)              0         \n",
      "_________________________________________________________________\n",
      "dense_25 (Dense)             (None, 512)               1180160   \n",
      "_________________________________________________________________\n",
      "activation_84 (Activation)   (None, 512)               0         \n",
      "_________________________________________________________________\n",
      "batch_normalization_32 (Batc (None, 512)               2048      \n",
      "_________________________________________________________________\n",
      "dropout_42 (Dropout)         (None, 512)               0         \n",
      "_________________________________________________________________\n",
      "dense_26 (Dense)             (None, 10)                5130      \n",
      "_________________________________________________________________\n",
      "activation_85 (Activation)   (None, 10)                0         \n",
      "=================================================================\n",
      "Total params: 1,253,674\n",
      "Trainable params: 1,252,266\n",
      "Non-trainable params: 1,408\n",
      "_________________________________________________________________\n",
      "Train on 50000 samples, validate on 10000 samples\n",
      "Epoch 1/10\n",
      "50000/50000 [==============================] - 94s 2ms/step - loss: 1.5834 - accuracy: 0.4889 - val_loss: 2.6325 - val_accuracy: 0.2740\n",
      "Epoch 2/10\n",
      "50000/50000 [==============================] - 94s 2ms/step - loss: 0.9968 - accuracy: 0.6504 - val_loss: 1.5247 - val_accuracy: 0.5164\n",
      "Epoch 3/10\n",
      "50000/50000 [==============================] - 93s 2ms/step - loss: 0.8258 - accuracy: 0.7096 - val_loss: 0.7960 - val_accuracy: 0.7280\n",
      "Epoch 4/10\n",
      "50000/50000 [==============================] - 93s 2ms/step - loss: 0.7345 - accuracy: 0.7419 - val_loss: 0.8854 - val_accuracy: 0.6964\n",
      "Epoch 5/10\n",
      "50000/50000 [==============================] - 93s 2ms/step - loss: 0.6680 - accuracy: 0.7657 - val_loss: 0.7419 - val_accuracy: 0.7413\n",
      "Epoch 6/10\n",
      "50000/50000 [==============================] - 93s 2ms/step - loss: 0.6172 - accuracy: 0.7838 - val_loss: 0.7279 - val_accuracy: 0.7468\n",
      "Epoch 7/10\n",
      "50000/50000 [==============================] - 94s 2ms/step - loss: 0.5766 - accuracy: 0.7974 - val_loss: 0.7105 - val_accuracy: 0.7636\n",
      "Epoch 8/10\n",
      "50000/50000 [==============================] - 94s 2ms/step - loss: 0.5350 - accuracy: 0.8141 - val_loss: 0.6884 - val_accuracy: 0.7691\n",
      "Epoch 9/10\n",
      "50000/50000 [==============================] - 93s 2ms/step - loss: 0.5043 - accuracy: 0.8237 - val_loss: 0.7383 - val_accuracy: 0.7653\n",
      "Epoch 10/10\n",
      "50000/50000 [==============================] - 93s 2ms/step - loss: 0.4796 - accuracy: 0.8302 - val_loss: 0.6500 - val_accuracy: 0.7854\n",
      "Test loss: 0.6500398174285889\n",
      "Test accuracy: 0.7853999733924866\n"
     ]
    }
   ],
   "source": [
    "model = Sequential()\n",
    "model.add(Conv2D(32, (3, 3), padding='same', \n",
    "                 kernel_regularizer=regularizers.l2(1e-6),\n",
    "                 input_shape=x_train.shape[1:]))\n",
    "model.add(Activation('relu'))\n",
    "model.add(BatchNormalization())\n",
    "model.add(Conv2D(32, (3, 3), \n",
    "                 kernel_regularizer=regularizers.l2(1e-6)))\n",
    "model.add(Activation('relu'))\n",
    "model.add(BatchNormalization())\n",
    "model.add(MaxPooling2D(pool_size=(2, 2)))\n",
    "model.add(Dropout(0.25))\n",
    "\n",
    "model.add(Conv2D(64, (3, 3), padding='same', \n",
    "                 kernel_regularizer=regularizers.l2(1e-6)))\n",
    "model.add(Activation('relu'))\n",
    "model.add(BatchNormalization())\n",
    "model.add(Conv2D(64, (3, 3), \n",
    "                 kernel_regularizer=regularizers.l2(1e-6)))\n",
    "model.add(Activation('relu'))\n",
    "model.add(BatchNormalization())\n",
    "model.add(MaxPooling2D(pool_size=(2, 2)))\n",
    "model.add(Dropout(0.25))\n",
    "\n",
    "model.add(Flatten())\n",
    "model.add(Dense(512))\n",
    "model.add(Activation('relu'))\n",
    "model.add(BatchNormalization())\n",
    "model.add(Dropout(0.5))\n",
    "model.add(Dense(num_classes))\n",
    "model.add(Activation('softmax'))\n",
    "model.summary()\n",
    "\n",
    "model.compile(loss='categorical_crossentropy',\n",
    "              optimizer=RMSprop(decay=1e-6),\n",
    "              metrics=['accuracy'])\n",
    "\n",
    "reduce_lr = ReduceLROnPlateau(factor=0.5, \n",
    "                              min_lr=1e-12, \n",
    "                              monitor='val_loss', \n",
    "                              patience=2, \n",
    "                              verbose=1)\n",
    "\n",
    "history = model.fit(x_train, y_train,\n",
    "                    batch_size=batch_size,\n",
    "                    epochs=epochs,\n",
    "                    verbose=1,\n",
    "                    validation_data=(x_test, y_test),\n",
    "                    callbacks=[reduce_lr])\n",
    "score = model.evaluate(x_test, y_test, verbose=0)\n",
    "print('Test loss:', score[0])\n",
    "print('Test accuracy:', score[1])"
   ]
  },
  {
   "cell_type": "markdown",
   "metadata": {},
   "source": [
    "## 同樣運算 10 個 epochs，但 CNN 在 test data 的準確率顯著優於 DNN!"
   ]
  },
  {
   "cell_type": "markdown",
   "metadata": {},
   "source": [
    "## 作業\n",
    "1. 請試著調整各個超參數，並說明那些超參數對於結果有明顯的影響?\n",
    "2. CNN 與 DNN 哪個模型的參數數量比較多? 造成參數的數量不同的原因在哪?"
   ]
  },
  {
   "cell_type": "markdown",
   "metadata": {},
   "source": [
    "#### Ans\n",
    "1. Optimizer的選擇、卷積層數、是否用Dropout層、Dropout 比例的高低、是否批次正規畫等因素都會影響模型預測能力\n",
    "2. CNN 模型之參數較 DNN 多，DNN 進行卷積時的參數量較少。"
   ]
  }
 ],
 "metadata": {
  "kernelspec": {
   "display_name": "Python 3",
   "language": "python",
   "name": "python3"
  },
  "language_info": {
   "codemirror_mode": {
    "name": "ipython",
    "version": 3
   },
   "file_extension": ".py",
   "mimetype": "text/x-python",
   "name": "python",
   "nbconvert_exporter": "python",
   "pygments_lexer": "ipython3",
   "version": "3.7.6"
  }
 },
 "nbformat": 4,
 "nbformat_minor": 4
}
