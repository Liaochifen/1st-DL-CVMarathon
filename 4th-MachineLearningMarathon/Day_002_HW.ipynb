{
 "cells": [
  {
   "cell_type": "markdown",
   "metadata": {},
   "source": [
    "## [作業目標]\n",
    "了解機器學習適合應用的領域與範疇。"
   ]
  },
  {
   "cell_type": "markdown",
   "metadata": {},
   "source": [
    "## [作業重點]\n",
    "透過瞭解機器學習的運作方式，找出非常適用機器學習應用的領域及其原因"
   ]
  },
  {
   "cell_type": "markdown",
   "metadata": {},
   "source": [
    "## 作業\n",
    "請找出一個你認為機器學習可以發光發熱的領域並闡述原因? "
   ]
  },
  {
   "cell_type": "markdown",
   "metadata": {},
   "source": [
    "自然語言處理。\n",
    "人類與機器互動的方式包含滑鼠鍵盤、觸控螢幕、搖桿、聲控等方式，在各類方式中最人性化的方式就是聲控，然而，想要達到跟機器講話像是在跟人類講話一般自然的情況，牽涉到機器如何聽得懂人類在說什麼？以目前各類語音助理的發展來看，機器學習在捕捉人類所使用的語言有明顯的進步，如果能讓這類助理更精確地判斷人類所說的每一句話以及背後所隱藏的情緒與意圖，將能夠更廣泛地使用在客服人員、點餐系統、專家系統、知識管理等用途上，使目前許多產業的營運模式產生巨大變化。"
   ]
  }
 ],
 "metadata": {
  "kernelspec": {
   "display_name": "Python 3",
   "language": "python",
   "name": "python3"
  },
  "language_info": {
   "codemirror_mode": {
    "name": "ipython",
    "version": 3
   },
   "file_extension": ".py",
   "mimetype": "text/x-python",
   "name": "python",
   "nbconvert_exporter": "python",
   "pygments_lexer": "ipython3",
   "version": "3.7.1"
  }
 },
 "nbformat": 4,
 "nbformat_minor": 2
}
