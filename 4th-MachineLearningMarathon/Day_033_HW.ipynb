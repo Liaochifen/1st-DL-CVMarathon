{
 "cells": [
  {
   "cell_type": "markdown",
   "metadata": {},
   "source": [
    "## 練習時間"
   ]
  },
  {
   "cell_type": "markdown",
   "metadata": {},
   "source": [
    "請觀看李宏毅教授以神奇寶貝進化 CP 值預測的範例，解說何謂機器學習與過擬合。並回答以下問題"
   ]
  },
  {
   "cell_type": "markdown",
   "metadata": {},
   "source": [
    "[youtube](https://www.youtube.com/watch?v=fegAeph9UaA)"
   ]
  },
  {
   "cell_type": "markdown",
   "metadata": {},
   "source": [
    "### 1. 模型的泛化能力 (generalization) 是指什麼？ \n",
    "    - Ans: 根據目前的模型，輸入一筆新資料後，誤差是多少，若誤差愈低則泛化能力愈高；誤差愈高泛化能力愈低\n",
    "\n",
    "### 2. 分類問題與回歸問題分別可用的目標函數有哪些？\n",
    "    - Ans: \n",
    "        - 分類損失函數：\n",
    "            1. 0-1損失函數\n",
    "            2. Cross Entropy\n",
    "            3. KL散度(KLD)\n",
    "            4. Hinge loss\n",
    "            5. 對數損失函數(Logarithmic Loss Function)\n",
    "            \n",
    "        - 回歸損失函數：\n",
    "            1. 均方誤差(MSE)\n",
    "            2. 平均絕對誤差(MAE)\n",
    "            3. Log-Cosh 損失\n",
    "            4. Huber損失\n"
   ]
  }
 ],
 "metadata": {
  "kernelspec": {
   "display_name": "Python 3",
   "language": "python",
   "name": "python3"
  },
  "language_info": {
   "codemirror_mode": {
    "name": "ipython",
    "version": 3
   },
   "file_extension": ".py",
   "mimetype": "text/x-python",
   "name": "python",
   "nbconvert_exporter": "python",
   "pygments_lexer": "ipython3",
   "version": "3.7.1"
  }
 },
 "nbformat": 4,
 "nbformat_minor": 2
}
