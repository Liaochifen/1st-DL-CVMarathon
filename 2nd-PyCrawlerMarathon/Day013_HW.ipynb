{
 "cells": [
  {
   "cell_type": "markdown",
   "metadata": {},
   "source": [
    "# PTT 網路爬蟲實作練習\n",
    "\n",
    "\n",
    "* 能夠利用 Request + BeatifulSour 撰寫爬蟲，並存放到合適的資料結構\n"
   ]
  },
  {
   "cell_type": "markdown",
   "metadata": {},
   "source": [
    "## 作業目標\n",
    "\n",
    "根據範例 ，完成以下問題：\n",
    "\n",
    "* ① 印出最新文章的「作者」「標題」「時間」\n",
    "* ② 印出第一頁所有文章的「作者」「標題」「時間」\n"
   ]
  },
  {
   "cell_type": "markdown",
   "metadata": {},
   "source": [
    "### ① 印出最新文章的「作者」「標題」「時間」"
   ]
  },
  {
   "cell_type": "code",
   "execution_count": 24,
   "metadata": {
    "scrolled": true
   },
   "outputs": [
    {
     "name": "stdout",
     "output_type": "stream",
     "text": [
      "作者: Rambo (香帥)\n",
      "標題: [Live] 公鹿 @ 金塊\n",
      "時間: Tue Mar 10 08:30:01 2020\n",
      "\n",
      "作者: currykukuo (陳菊濕汗)\n",
      "標題: [花邊] Barkley計劃出售MVP獎杯以幫助家鄉建設房屋\n",
      "時間: Tue Mar 10 08:51:11 2020\n",
      "\n",
      "作者: MayBeSoft (小小瑜兒)\n",
      "標題: Re: [討論] Curry是不是現今有成就也不被認可的球員?\n",
      "時間: Tue Mar 10 08:51:32 2020\n",
      "\n",
      "作者: waiting0801 (動感光波逼逼)\n",
      "標題: Re: [BOX ] Spurs 129:132 Cavaliers 數據\n",
      "時間: Tue Mar 10 09:24:49 2020\n",
      "\n",
      "作者: TheoEpstein (Cubs)\n",
      "標題: Re: [討論] Curry是不是現今有成就也不被認可的球員?\n",
      "時間: Tue Mar 10 09:47:46 2020\n",
      "\n",
      "作者: antiNBA (NoBody)\n",
      "標題: Re: [討論] Curry是不是現今有成就也不被認可的球員?\n",
      "時間: Tue Mar 10 09:52:15 2020\n",
      "\n",
      "作者: wfelix (清雲)\n",
      "標題: Re: [討論] Curry是不是現今有成就也不被認可的球員?\n",
      "時間: Tue Mar 10 10:02:29 2020\n",
      "\n",
      "作者: currykukuo (陳菊濕汗)\n",
      "標題: [情報] Trae Young 史上最快投進350顆三分球\n",
      "時間: Tue Mar 10 10:38:49 2020\n",
      "\n",
      "作者: qazwsx879345 (Rajon Rondo)\n",
      "標題: [公告] 版主上任相關事項\n",
      "時間: Fri Oct 25 10:44:03 2019\n",
      "\n",
      "作者: Acetoxy (阿斯)\n",
      "標題: [情報] SEASON Schedule 賽程 March 19–20\n",
      "時間: Mon Mar  2 01:19:40 2020\n",
      "\n",
      "作者: Vedan (味丹)\n",
      "標題: Fw: [公告] 即日起開放 NTU 信箱註冊帳號\n",
      "時間: Wed Mar  4 12:50:19 2020\n",
      "\n",
      "作者: Vedan (味丹)\n",
      "標題: [公告] 第一次被退文，可在三天後刪除退文\n",
      "時間: Mon Mar  9 11:44:26 2020\n",
      "\n"
     ]
    }
   ],
   "source": [
    "import requests\n",
    "from bs4 import BeautifulSoup\n",
    "\n",
    "url = 'https://www.ptt.cc/bbs/NBA/index.html'\n",
    "r = requests.get(url)\n",
    "\n",
    "soup = BeautifulSoup(r.text, \"html5lib\")\n",
    "\n",
    "for d in soup.find_all(class_=\"title\"):\n",
    "    try:\n",
    "        r = BeautifulSoup(requests.get('https://www.ptt.cc'+d.find('a')['href']).text, \"html5lib\")\n",
    "        values = r.find_all(class_='article-meta-value')\n",
    "        print('作者: ' + values[0].text)\n",
    "        print('標題: ' + values[2].text)\n",
    "        print('時間: ' + values[3].text)\n",
    "        print()\n",
    "    except:\n",
    "        continue\n"
   ]
  },
  {
   "cell_type": "markdown",
   "metadata": {},
   "source": [
    "### ② 印出第一頁所有文章的「作者」「標題」「時間」"
   ]
  },
  {
   "cell_type": "code",
   "execution_count": 25,
   "metadata": {
    "scrolled": true
   },
   "outputs": [
    {
     "name": "stdout",
     "output_type": "stream",
     "text": [
      "作者: Price (Price)\n",
      "標題: [轉錄]Lyotard 對於太陽板討論串的結論\n",
      "時間: Sun May 16 01:54:33 2004\n",
      "\n",
      "作者: Price (Price)\n",
      "標題: [公告] 請停止一切關於本次活動的發言\n",
      "時間: Mon May 24 00:43:00 2004\n",
      "\n",
      "作者: Frankaze (神采風華)\n",
      "標題: [轉錄]跟之前那篇比起來 我覺得這篇也應該轉過來\n",
      "時間: Tue Jun  8 01:16:45 2004\n",
      "\n",
      "作者: Frankaze (神采風華)\n",
      "標題: [轉錄]再轉一篇好文來\n",
      "時間: Tue Jun  8 09:02:23 2004\n",
      "\n",
      "作者: Price (Price)\n",
      "標題: [轉錄][情報] 夏洛特山貓系列\n",
      "時間: Thu Jun 10 00:39:35 2004\n",
      "\n",
      "作者: Price (Price)\n",
      "標題: [轉錄]Re: [心得] 真是受不了糗爺....\n",
      "時間: Thu Jun 10 00:51:35 2004\n",
      "\n",
      "作者: Price (Price)\n",
      "標題: [轉錄]總冠軍賽NO.2觀後感\n",
      "時間: Thu Jun 10 12:05:07 2004\n",
      "\n",
      "作者: AmuroNamie (原來太嗨真的會失眠^___^)\n",
      "標題: [心得] Rasheed Wallace\n",
      "時間: Fri Jun 11 15:06:09 2004\n",
      "\n",
      "作者: toptree (  )\n",
      "標題: 掌控球賽的男人\n",
      "時間: Sat Jun 12 07:13:04 2004\n",
      "\n",
      "作者: skchang (3EB板開板囉！)\n",
      "標題: [閒聊] 說說2004季後賽名場面回顧\n",
      "時間: Sat Jun 12 13:21:49 2004\n",
      "\n",
      "作者: shineup ()\n",
      "標題: [心得] 其實說穿了 就是活塞的防守太可怕了\n",
      "時間: Sat Jun 12 13:12:47 2004\n",
      "\n",
      "作者: cOvi (喵~)\n",
      "標題: Re: [閒聊] 說說2004季後賽名場面回顧\n",
      "時間: Sat Jun 12 16:43:07 2004\n",
      "\n",
      "作者: ykshih (￼N￼Ns)\n",
      "標題: Re: [閒聊] 說說2004季後賽名場面回顧\n",
      "時間: Sat Jun 12 17:26:37 2004\n",
      "\n",
      "作者: Frankaze (神采風華)\n",
      "標題: Re: [閒聊] 說說2004季後賽名場面回顧\n",
      "時間: Sat Jun 12 18:34:46 2004\n",
      "\n",
      "作者: Price (Price)\n",
      "標題: [轉錄]Re: 總冠軍賽NO.3觀後感\n",
      "時間: Mon Jun 14 02:18:52 2004\n",
      "\n",
      "作者: Frankaze (神采風華)\n",
      "標題: [轉錄]Re: 總冠軍賽NO.3觀後感\n",
      "時間: Mon Jun 14 02:34:33 2004\n",
      "\n",
      "作者: star1 (第一次魔術表演不算成功)\n",
      "標題: Re: [轉錄]Re: 總冠軍賽NO.3觀後感\n",
      "時間: Mon Jun 14 07:16:30 2004\n",
      "\n",
      "作者: coldspring (笑笑)\n",
      "標題: Re: [轉錄]Re: 總冠軍賽NO.3觀後感\n",
      "時間: Mon Jun 14 09:24:57 2004\n",
      "\n",
      "作者: airbear (地圖)\n",
      "標題: Re: Kobe is frustrated...\n",
      "時間: Mon Jun 14 12:56:14 2004\n",
      "\n",
      "作者: pennykidd (andre)\n",
      "標題: Re: [轉錄]Re: 總冠軍賽NO.3觀後感\n",
      "時間: Mon Jun 14 22:07:01 2004\n",
      "\n"
     ]
    }
   ],
   "source": [
    "import requests\n",
    "from bs4 import BeautifulSoup\n",
    "\n",
    "url = 'https://www.ptt.cc/bbs/NBA/index1.html'\n",
    "r = requests.get(url)\n",
    "\n",
    "soup = BeautifulSoup(r.text, \"html5lib\")\n",
    "\n",
    "for d in soup.find_all(class_=\"title\"):\n",
    "    try:\n",
    "        r = BeautifulSoup(requests.get('https://www.ptt.cc'+d.find('a')['href']).text, \"html5lib\")\n",
    "        values = r.find_all(class_='article-meta-value')\n",
    "        print('作者: ' + values[0].text)\n",
    "        print('標題: ' + values[2].text)\n",
    "        print('時間: ' + values[3].text)\n",
    "        print()\n",
    "    except:\n",
    "        continue\n"
   ]
  },
  {
   "cell_type": "markdown",
   "metadata": {},
   "source": [
    "### ③ 試著爬爬看其他版的文章"
   ]
  },
  {
   "cell_type": "code",
   "execution_count": 26,
   "metadata": {
    "scrolled": true
   },
   "outputs": [
    {
     "name": "stdout",
     "output_type": "stream",
     "text": [
      "作者: briankt (佛跳牆)\n",
      "標題: [心情] 渣男死纏爛打\n",
      "時間: Tue Mar 10 09:38:28 2020\n",
      "\n",
      "作者: werttrew (我只是你的愛人 不是敵人)\n",
      "標題: [討論] 男生的求偶焦慮為何這麼嚴重？\n",
      "時間: Tue Mar 10 10:17:15 2020\n",
      "\n",
      "作者: cation234 (貓離子)\n",
      "標題: Re: [討論] 能分享曾經愛情長跑卻分手的你的故事嗎？\n",
      "時間: Tue Mar 10 10:23:12 2020\n",
      "\n",
      "作者: snda (芽沼)\n",
      "標題: [公告] 關於新制板規說明（必讀）\n",
      "時間: Sun May 11 22:34:47 2014\n",
      "\n",
      "作者: ChenDao (陳到字叔至)\n",
      "標題: [公告] 檢舉格式教學\n",
      "時間: Mon Apr  8 20:36:41 2019\n",
      "\n",
      "作者: ChenDao (陳到字叔至)\n",
      "標題: [公告] 有關於\"問卷文申請\"\n",
      "時間: Tue Jun 18 04:18:14 2019\n",
      "\n",
      "作者: ChenDao (陳到字叔至)\n",
      "標題: [公告] 男女板板規\n",
      "時間: Wed Aug 14 05:13:28 2019\n",
      "\n",
      "作者: ChenDao (陳到字叔至)\n",
      "標題: [置底閒聊] 18/06/2019 04:17am \n",
      "時間: Tue Jun 18 04:19:59 2019\n",
      "\n"
     ]
    }
   ],
   "source": [
    "import requests\n",
    "from bs4 import BeautifulSoup\n",
    "\n",
    "url = 'https://www.ptt.cc/bbs/Boy-Girl/index.html'\n",
    "r = requests.get(url)\n",
    "\n",
    "soup = BeautifulSoup(r.text, \"html5lib\")\n",
    "\n",
    "for d in soup.find_all(class_=\"title\"):\n",
    "    try:\n",
    "        r = BeautifulSoup(requests.get('https://www.ptt.cc'+d.find('a')['href']).text, \"html5lib\")\n",
    "        values = r.find_all(class_='article-meta-value')\n",
    "        print('作者: ' + values[0].text)\n",
    "        print('標題: ' + values[2].text)\n",
    "        print('時間: ' + values[3].text)\n",
    "        print()\n",
    "    except:\n",
    "        continue\n"
   ]
  }
 ],
 "metadata": {
  "kernelspec": {
   "display_name": "Python 3",
   "language": "python",
   "name": "python3"
  },
  "language_info": {
   "codemirror_mode": {
    "name": "ipython",
    "version": 3
   },
   "file_extension": ".py",
   "mimetype": "text/x-python",
   "name": "python",
   "nbconvert_exporter": "python",
   "pygments_lexer": "ipython3",
   "version": "3.7.1"
  }
 },
 "nbformat": 4,
 "nbformat_minor": 2
}
