{
 "cells": [
  {
   "cell_type": "markdown",
   "metadata": {},
   "source": [
    "# PTT 網路爬蟲實作練習\n",
    "\n",
    "\n",
    "* 能夠利用 Request + BeatifulSour 撰寫爬蟲，並存放到合適的資料結構\n"
   ]
  },
  {
   "cell_type": "markdown",
   "metadata": {},
   "source": [
    "## 作業目標\n",
    "\n",
    "根據範例 ，完成以下問題：\n",
    "\n",
    "* ① 印出最新文章的「作者」「標題」「時間」\n",
    "* ② 印出第一頁所有文章的「作者」「標題」「時間」\n"
   ]
  },
  {
   "cell_type": "markdown",
   "metadata": {},
   "source": [
    "### ① 印出最新文章的「作者」「標題」「時間」"
   ]
  },
  {
   "cell_type": "code",
   "execution_count": 58,
   "metadata": {
    "scrolled": true
   },
   "outputs": [
    {
     "data": {
      "text/plain": [
       "{'作者': 'ColeNorris (Cole)',\n",
       " '時間': 'Tue Mar 10 11:13:49 2020',\n",
       " '標題': '[情報] LBJ腹股溝痛.AD手肘痛.Caruso右腿痛'}"
      ]
     },
     "execution_count": 58,
     "metadata": {},
     "output_type": "execute_result"
    }
   ],
   "source": [
    "import datetime\n",
    "import time\n",
    "import requests\n",
    "from bs4 import BeautifulSoup\n",
    "\n",
    "url = 'https://www.ptt.cc/bbs/NBA/index.html'\n",
    "r = requests.get(url)\n",
    "\n",
    "soup = BeautifulSoup(r.text, \"html5lib\")\n",
    "\n",
    "posts = []\n",
    "\n",
    "for d in soup.find_all(class_=\"title\"):\n",
    "    try:\n",
    "        post = {}\n",
    "        \n",
    "        r = BeautifulSoup(requests.get('https://www.ptt.cc'+d.find('a')['href']).text, \"html5lib\")\n",
    "        values = r.find_all(class_='article-meta-value')\n",
    "        \n",
    "        post['作者'] = values[0].text\n",
    "        post['時間'] = values[3].text\n",
    "#         post['時間'] = datetime.strptime(post['時間'], \"%a %b %d %H:%M:%S %Y\")\n",
    "        post['標題'] = values[2].text\n",
    "        \n",
    "        posts.append(post)\n",
    "    except:\n",
    "        continue\n",
    "        \n",
    "posts = sorted(posts, key= lambda x: x['時間'])\n",
    "\n",
    "posts[-2]"
   ]
  },
  {
   "cell_type": "markdown",
   "metadata": {},
   "source": [
    "### ② 印出第一頁所有文章的「作者」「標題」「時間」"
   ]
  },
  {
   "cell_type": "code",
   "execution_count": 59,
   "metadata": {
    "scrolled": true
   },
   "outputs": [
    {
     "name": "stdout",
     "output_type": "stream",
     "text": [
      "作者: Rambo (香帥)\n",
      "標題: [Live] 公鹿 @ 金塊\n",
      "時間: Tue Mar 10 08:30:01 2020\n",
      "\n",
      "作者: currykukuo (陳菊濕汗)\n",
      "標題: [花邊] Barkley計劃出售MVP獎杯以幫助家鄉建設房屋\n",
      "時間: Tue Mar 10 08:51:11 2020\n",
      "\n",
      "作者: MayBeSoft (小小瑜兒)\n",
      "標題: Re: [討論] Curry是不是現今有成就也不被認可的球員?\n",
      "時間: Tue Mar 10 08:51:32 2020\n",
      "\n",
      "作者: waiting0801 (動感光波逼逼)\n",
      "標題: Re: [BOX ] Spurs 129:132 Cavaliers 數據\n",
      "時間: Tue Mar 10 09:24:49 2020\n",
      "\n",
      "作者: TheoEpstein (Cubs)\n",
      "標題: Re: [討論] Curry是不是現今有成就也不被認可的球員?\n",
      "時間: Tue Mar 10 09:47:46 2020\n",
      "\n",
      "作者: antiNBA (NoBody)\n",
      "標題: Re: [討論] Curry是不是現今有成就也不被認可的球員?\n",
      "時間: Tue Mar 10 09:52:15 2020\n",
      "\n",
      "作者: wfelix (清雲)\n",
      "標題: Re: [討論] Curry是不是現今有成就也不被認可的球員?\n",
      "時間: Tue Mar 10 10:02:29 2020\n",
      "\n",
      "作者: currykukuo (陳菊濕汗)\n",
      "標題: [情報] Trae Young 史上最快投進350顆三分球\n",
      "時間: Tue Mar 10 10:38:49 2020\n",
      "\n",
      "作者: whj0530 (億載金城武)\n",
      "標題: [花邊] Chandler:如果有人問我，我會說Dolan是一\n",
      "時間: Tue Mar 10 10:53:21 2020\n",
      "\n",
      "作者: Wojnarowski (@wojespn)\n",
      "標題: [花邊] 某球隊高管：無意冒犯LBJ，但病毒危機\n",
      "時間: Tue Mar 10 11:05:24 2020\n",
      "\n",
      "作者: ColeNorris (Cole)\n",
      "標題: [情報] LBJ腹股溝痛.AD手肘痛.Caruso右腿痛\n",
      "時間: Tue Mar 10 11:13:49 2020\n",
      "\n",
      "作者: qazwsx879345 (Rajon Rondo)\n",
      "標題: [公告] 版主上任相關事項\n",
      "時間: Fri Oct 25 10:44:03 2019\n",
      "\n",
      "作者: Acetoxy (阿斯)\n",
      "標題: [情報] SEASON Schedule 賽程 March 19–20\n",
      "時間: Mon Mar  2 01:19:40 2020\n",
      "\n",
      "作者: Vedan (味丹)\n",
      "標題: Fw: [公告] 即日起開放 NTU 信箱註冊帳號\n",
      "時間: Wed Mar  4 12:50:19 2020\n",
      "\n",
      "作者: Vedan (味丹)\n",
      "標題: [公告] 第一次被退文，可在三天後刪除退文\n",
      "時間: Mon Mar  9 11:44:26 2020\n",
      "\n"
     ]
    }
   ],
   "source": [
    "for d in soup.find_all(class_=\"title\"):\n",
    "    try:\n",
    "        r = BeautifulSoup(requests.get('https://www.ptt.cc'+d.find('a')['href']).text, \"html5lib\")\n",
    "        values = r.find_all(class_='article-meta-value')\n",
    "        print('作者: ' + values[0].text)\n",
    "        print('標題: ' + values[2].text)\n",
    "        print('時間: ' + values[3].text)\n",
    "        print()\n",
    "    except:\n",
    "        continue\n"
   ]
  },
  {
   "cell_type": "markdown",
   "metadata": {},
   "source": [
    "### ③ 試著爬爬看其他版的文章"
   ]
  },
  {
   "cell_type": "code",
   "execution_count": 60,
   "metadata": {
    "scrolled": true
   },
   "outputs": [
    {
     "name": "stdout",
     "output_type": "stream",
     "text": [
      "作者: briankt (佛跳牆)\n",
      "標題: [心情] 渣男死纏爛打\n",
      "時間: Tue Mar 10 09:38:28 2020\n",
      "\n",
      "作者: werttrew (我只是你的愛人 不是敵人)\n",
      "標題: [討論] 男生的求偶焦慮為何這麼嚴重？\n",
      "時間: Tue Mar 10 10:17:15 2020\n",
      "\n",
      "作者: cation234 (貓離子)\n",
      "標題: Re: [討論] 能分享曾經愛情長跑卻分手的你的故事嗎？\n",
      "時間: Tue Mar 10 10:23:12 2020\n",
      "\n",
      "作者: carefree1028 (Elaine小妹)\n",
      "標題: [問卷] 大學生網路交友之自我揭露與愛情關係問卷\n",
      "時間: Tue Mar 10 11:25:50 2020\n",
      "\n",
      "作者: snda (芽沼)\n",
      "標題: [公告] 關於新制板規說明（必讀）\n",
      "時間: Sun May 11 22:34:47 2014\n",
      "\n",
      "作者: ChenDao (陳到字叔至)\n",
      "標題: [公告] 檢舉格式教學\n",
      "時間: Mon Apr  8 20:36:41 2019\n",
      "\n",
      "作者: ChenDao (陳到字叔至)\n",
      "標題: [公告] 有關於\"問卷文申請\"\n",
      "時間: Tue Jun 18 04:18:14 2019\n",
      "\n",
      "作者: ChenDao (陳到字叔至)\n",
      "標題: [公告] 男女板板規\n",
      "時間: Wed Aug 14 05:13:28 2019\n",
      "\n",
      "作者: ChenDao (陳到字叔至)\n",
      "標題: [置底閒聊] 18/06/2019 04:17am \n",
      "時間: Tue Jun 18 04:19:59 2019\n",
      "\n"
     ]
    }
   ],
   "source": [
    "import requests\n",
    "from bs4 import BeautifulSoup\n",
    "\n",
    "url = 'https://www.ptt.cc/bbs/Boy-Girl/index.html'\n",
    "r = requests.get(url)\n",
    "\n",
    "soup = BeautifulSoup(r.text, \"html5lib\")\n",
    "\n",
    "for d in soup.find_all(class_=\"title\"):\n",
    "    try:\n",
    "        r = BeautifulSoup(requests.get('https://www.ptt.cc'+d.find('a')['href']).text, \"html5lib\")\n",
    "        values = r.find_all(class_='article-meta-value')\n",
    "        print('作者: ' + values[0].text)\n",
    "        print('標題: ' + values[2].text)\n",
    "        print('時間: ' + values[3].text)\n",
    "        print()\n",
    "    except:\n",
    "        continue\n"
   ]
  }
 ],
 "metadata": {
  "kernelspec": {
   "display_name": "Python 3",
   "language": "python",
   "name": "python3"
  },
  "language_info": {
   "codemirror_mode": {
    "name": "ipython",
    "version": 3
   },
   "file_extension": ".py",
   "mimetype": "text/x-python",
   "name": "python",
   "nbconvert_exporter": "python",
   "pygments_lexer": "ipython3",
   "version": "3.7.1"
  }
 },
 "nbformat": 4,
 "nbformat_minor": 2
}
