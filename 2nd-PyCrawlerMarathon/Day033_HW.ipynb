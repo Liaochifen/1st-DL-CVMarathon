{
 "cells": [
  {
   "cell_type": "markdown",
   "metadata": {},
   "source": [
    "# 反爬：登入授權模擬\n",
    "\n",
    "* 了解「登入權限機制」的反爬蟲機制\n",
    "* 「登入權限機制」反爬蟲的因應策略"
   ]
  },
  {
   "cell_type": "markdown",
   "metadata": {},
   "source": [
    "## 作業目標\n",
    "\n",
    "* 找一個需要登入的網站試試看，並說明思考流程\n",
    "（如果不知道要用哪個網站的話，可以試試看 https://github.com/new 網址，未登入時會被導向登入頁）\n",
    "\n"
   ]
  },
  {
   "cell_type": "code",
   "execution_count": 19,
   "metadata": {},
   "outputs": [],
   "source": [
    "import requests\n",
    "from bs4 import BeautifulSoup\n",
    "import warnings\n",
    "warnings.simplefilter(\"ignore\")"
   ]
  },
  {
   "cell_type": "markdown",
   "metadata": {},
   "source": [
    "## 未授權前存取"
   ]
  },
  {
   "cell_type": "code",
   "execution_count": 20,
   "metadata": {},
   "outputs": [
    {
     "name": "stdout",
     "output_type": "stream",
     "text": [
      "Sign in to GitHub · GitHubSkip to contentGitHub no longer supports this web browser.          Learn more about the browsers we support.         Sign in to GitHub          Username or email address                  Password Forgot password?        New to GitHub?        Create an account.      TermsPrivacySecurityContact GitHub    You can’t perform that action at this time.  You signed in with another tab or window. Reload to refresh your session.You signed out in another tab or window. Reload to refresh your session.\n"
     ]
    }
   ],
   "source": [
    "res = requests.get('https://github.com/new', verify = False)\n",
    "soup = BeautifulSoup(res.text, 'html.parser')\n",
    "print(soup.text.replace('\\n', ''))"
   ]
  },
  {
   "cell_type": "markdown",
   "metadata": {},
   "source": [
    "## 授權前存後"
   ]
  },
  {
   "cell_type": "code",
   "execution_count": 21,
   "metadata": {
    "scrolled": false
   },
   "outputs": [
    {
     "name": "stdout",
     "output_type": "stream",
     "text": [
      "Sign in to GitHub · GitHubSkip to contentGitHub no longer supports this web browser.          Learn more about the browsers we support.         Sign in to GitHub          Username or email address                  Password Forgot password?        New to GitHub?        Create an account.      TermsPrivacySecurityContact GitHub    You can’t perform that action at this time.  You signed in with another tab or window. Reload to refresh your session.You signed out in another tab or window. Reload to refresh your session.\n"
     ]
    }
   ],
   "source": [
    "cookie = {\n",
    "    'dotcom_user': 'XXXXX',\n",
    "    'logged_in': 'XXX',\n",
    "    'tz': 'Asia%2FTaipei',\n",
    "    'user_session': 'XXXXXXXXXXXXXXX'\n",
    "}\n",
    "\n",
    "res = requests.get('https://github.com/new',verify = False, cookies=cookie)\n",
    "soup = BeautifulSoup(res.text,'html.parser')\n",
    "print(soup.text.replace('\\n',''))"
   ]
  },
  {
   "cell_type": "code",
   "execution_count": null,
   "metadata": {},
   "outputs": [],
   "source": []
  }
 ],
 "metadata": {
  "kernelspec": {
   "display_name": "Python 3",
   "language": "python",
   "name": "python3"
  },
  "language_info": {
   "codemirror_mode": {
    "name": "ipython",
    "version": 3
   },
   "file_extension": ".py",
   "mimetype": "text/x-python",
   "name": "python",
   "nbconvert_exporter": "python",
   "pygments_lexer": "ipython3",
   "version": "3.7.1"
  }
 },
 "nbformat": 4,
 "nbformat_minor": 2
}
