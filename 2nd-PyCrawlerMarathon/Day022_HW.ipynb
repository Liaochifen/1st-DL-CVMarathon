{
 "cells": [
  {
   "cell_type": "markdown",
   "metadata": {},
   "source": [
    "# 空氣污染監測網 網路爬蟲實作練習\n",
    "\n",
    "\n",
    "* 能夠利用 selenium + BeautifulSoup 撰寫爬蟲，並存放到合適的資料結構\n"
   ]
  },
  {
   "cell_type": "markdown",
   "metadata": {},
   "source": [
    "## 作業目標\n",
    "\n",
    "根據範例 ，完成以下問題：\n",
    "\n",
    "* ① 取出 台北市士林區 2018/01 – 2018/08 的 SO2 資料\n",
    "* ② 取出 台北市士林區 2018/01 – 2018/08 的 SO2、CO 資料\n",
    "\n",
    "\n",
    "\n"
   ]
  },
  {
   "cell_type": "markdown",
   "metadata": {},
   "source": [
    "### ① 取出 台北市士林區 2018/01 – 2018/08 的 SO2 資料"
   ]
  },
  {
   "cell_type": "code",
   "execution_count": 77,
   "metadata": {},
   "outputs": [],
   "source": [
    "# 打開瀏覽器\n",
    "\n",
    "from selenium import webdriver\n",
    "from selenium.webdriver.support.ui import Select\n",
    "from bs4 import BeautifulSoup\n",
    "import time\n",
    "\n",
    "browser = webdriver.Chrome(executable_path='chromedriver')\n",
    "\n",
    "browser.get(\"http://taqm.epa.gov.tw/taqm/tw/MonthlyAverage.aspx\")"
   ]
  },
  {
   "cell_type": "code",
   "execution_count": 78,
   "metadata": {},
   "outputs": [],
   "source": [
    "# 模擬使用者操作行為，選擇/點擊\n",
    "\n",
    "selectSite = Select(browser.find_element_by_id(\"ctl05_ddlSite\"))\n",
    "selectSite.select_by_value('11')\n",
    "selectYear = Select(browser.find_element_by_id(\"ctl05_ddlYear\"))\n",
    "selectYear.select_by_value('2018')\n",
    "\n",
    "browser.find_element_by_id('ctl05_btnQuery').click()\n",
    "time.sleep(1)"
   ]
  },
  {
   "cell_type": "code",
   "execution_count": 79,
   "metadata": {
    "scrolled": false
   },
   "outputs": [],
   "source": [
    "# 取得資料，丟到 BeautifulSoup 解析\n",
    "\n",
    "html_source = browser.page_source\n",
    "\n",
    "soup = BeautifulSoup(html_source, 'html.parser')\n",
    "table = soup.find('table', class_='TABLE_G')\n",
    "\n",
    "count = 0\n",
    "values = []\n",
    "\n",
    "for tr in table.find_all('tr')[1:]:\n",
    "    if len(tr.find_all('td')) == 5 and tr.find('td', class_=\"no-alt\").text :\n",
    "        values.append({\n",
    "            \"Month\": tr.find_all('td')[2].text,\n",
    "            \"value\": float(tr.find_all('td')[3].text)\n",
    "        })\n",
    "    if count < 8 and len(tr.find_all('td')) == 3:\n",
    "        values.append({\n",
    "            \"Month\": tr.find_all('td')[0].text,\n",
    "            \"value\": float(tr.find_all('td')[1].text)\n",
    "        })\n",
    "    elif count >=8 :\n",
    "        break\n",
    "        \n",
    "    count += 1"
   ]
  },
  {
   "cell_type": "code",
   "execution_count": 80,
   "metadata": {},
   "outputs": [
    {
     "data": {
      "text/html": [
       "<div>\n",
       "<style scoped>\n",
       "    .dataframe tbody tr th:only-of-type {\n",
       "        vertical-align: middle;\n",
       "    }\n",
       "\n",
       "    .dataframe tbody tr th {\n",
       "        vertical-align: top;\n",
       "    }\n",
       "\n",
       "    .dataframe thead th {\n",
       "        text-align: right;\n",
       "    }\n",
       "</style>\n",
       "<table border=\"1\" class=\"dataframe\">\n",
       "  <thead>\n",
       "    <tr style=\"text-align: right;\">\n",
       "      <th></th>\n",
       "      <th>Month</th>\n",
       "      <th>value</th>\n",
       "    </tr>\n",
       "  </thead>\n",
       "  <tbody>\n",
       "    <tr>\n",
       "      <th>0</th>\n",
       "      <td>2018/01</td>\n",
       "      <td>1.8</td>\n",
       "    </tr>\n",
       "    <tr>\n",
       "      <th>1</th>\n",
       "      <td>2018/02</td>\n",
       "      <td>1.9</td>\n",
       "    </tr>\n",
       "    <tr>\n",
       "      <th>2</th>\n",
       "      <td>2018/03</td>\n",
       "      <td>2.2</td>\n",
       "    </tr>\n",
       "    <tr>\n",
       "      <th>3</th>\n",
       "      <td>2018/04</td>\n",
       "      <td>2.3</td>\n",
       "    </tr>\n",
       "    <tr>\n",
       "      <th>4</th>\n",
       "      <td>2018/05</td>\n",
       "      <td>3.1</td>\n",
       "    </tr>\n",
       "    <tr>\n",
       "      <th>5</th>\n",
       "      <td>2018/06</td>\n",
       "      <td>2.7</td>\n",
       "    </tr>\n",
       "    <tr>\n",
       "      <th>6</th>\n",
       "      <td>2018/07</td>\n",
       "      <td>2.2</td>\n",
       "    </tr>\n",
       "    <tr>\n",
       "      <th>7</th>\n",
       "      <td>2018/08</td>\n",
       "      <td>2.4</td>\n",
       "    </tr>\n",
       "  </tbody>\n",
       "</table>\n",
       "</div>"
      ],
      "text/plain": [
       "     Month  value\n",
       "0  2018/01    1.8\n",
       "1  2018/02    1.9\n",
       "2  2018/03    2.2\n",
       "3  2018/04    2.3\n",
       "4  2018/05    3.1\n",
       "5  2018/06    2.7\n",
       "6  2018/07    2.2\n",
       "7  2018/08    2.4"
      ]
     },
     "execution_count": 80,
     "metadata": {},
     "output_type": "execute_result"
    }
   ],
   "source": [
    "import pandas as pd\n",
    "\n",
    "df = pd.DataFrame(values)\n",
    "df"
   ]
  },
  {
   "cell_type": "code",
   "execution_count": 81,
   "metadata": {},
   "outputs": [],
   "source": [
    "browser.close()"
   ]
  },
  {
   "cell_type": "markdown",
   "metadata": {},
   "source": [
    "### ② 取出 台北市士林區 2018/01 – 2018/08 的 SO2、CO 資料"
   ]
  },
  {
   "cell_type": "code",
   "execution_count": 97,
   "metadata": {},
   "outputs": [],
   "source": [
    "# 打開瀏覽器\n",
    "\n",
    "from selenium import webdriver\n",
    "from selenium.webdriver.support.ui import Select\n",
    "from bs4 import BeautifulSoup\n",
    "import time\n",
    "import pandas as pd\n",
    "\n",
    "browser = webdriver.Chrome(executable_path='chromedriver')\n",
    "\n",
    "browser.get(\"http://taqm.epa.gov.tw/taqm/tw/MonthlyAverage.aspx\")"
   ]
  },
  {
   "cell_type": "code",
   "execution_count": 98,
   "metadata": {},
   "outputs": [],
   "source": [
    "# 模擬使用者操作行為，選擇/點擊\n",
    "\n",
    "selectSite = Select(browser.find_element_by_id(\"ctl05_ddlSite\"))\n",
    "selectSite.select_by_value('11')\n",
    "selectYear = Select(browser.find_element_by_id(\"ctl05_ddlYear\"))\n",
    "selectYear.select_by_value('2018')\n",
    "\n",
    "browser.find_element_by_id('ctl05_btnQuery').click()\n",
    "time.sleep(1)"
   ]
  },
  {
   "cell_type": "code",
   "execution_count": 99,
   "metadata": {
    "scrolled": false
   },
   "outputs": [],
   "source": [
    "# 取得資料，丟到 BeautifulSoup 解析\n",
    "\n",
    "html_source = browser.page_source\n",
    "\n",
    "soup = BeautifulSoup(html_source, 'html.parser')\n",
    "table = soup.find('table', class_='TABLE_G')\n",
    "target = ['SO2', 'CO']\n",
    "\n",
    "count = 0\n",
    "so2_values = []\n",
    "co_values = []\n",
    "\n",
    "\n",
    "for tr in table.find_all('tr')[1:]:\n",
    "    if len(tr.find_all('td')) == 5 and (tr.find(class_=\"no-alt\").text in target) :\n",
    "        item = tr.find('td', class_=\"no-alt\").text\n",
    "        if item == target[0] :\n",
    "            so2_values.append({\n",
    "                \"Month\": tr.find_all('td')[2].text,\n",
    "                \"value\": float(tr.find_all('td')[3].text)\n",
    "            })\n",
    "        elif item == target[1] :\n",
    "            co_values.append({\n",
    "                \"Month\": tr.find_all('td')[2].text,\n",
    "                \"value\": float(tr.find_all('td')[3].text)\n",
    "            })\n",
    "            \n",
    "    if len(tr.find_all('td')) == 3 and count<20:\n",
    "        if item == target[0] and len(so2_values) < 8 :\n",
    "            so2_values.append({\n",
    "                \"Month\": tr.find_all('td')[0].text,\n",
    "                \"value\": float(tr.find_all('td')[1].text)\n",
    "            })\n",
    "        elif len(co_values) < 8 and item == target[1] :\n",
    "            co_values.append({\n",
    "                \"Month\": tr.find_all('td')[0].text,\n",
    "                \"value\": float(tr.find_all('td')[1].text)\n",
    "            })\n",
    "    if count >= 20:\n",
    "        break\n",
    "    \n",
    "    count += 1\n"
   ]
  },
  {
   "cell_type": "code",
   "execution_count": 100,
   "metadata": {},
   "outputs": [
    {
     "name": "stdout",
     "output_type": "stream",
     "text": [
      "SO2\n",
      "     Month  value\n",
      "0  2018/01    1.8\n",
      "1  2018/02    1.9\n",
      "2  2018/03    2.2\n",
      "3  2018/04    2.3\n",
      "4  2018/05    3.1\n",
      "5  2018/06    2.7\n",
      "6  2018/07    2.2\n",
      "7  2018/08    2.4\n",
      "\n",
      "CO\n",
      "     Month  value\n",
      "0  2018/01   0.34\n",
      "1  2018/02   0.44\n",
      "2  2018/03   0.40\n",
      "3  2018/04   0.38\n",
      "4  2018/05   0.34\n",
      "5  2018/06   0.29\n",
      "6  2018/07   0.21\n",
      "7  2018/08   0.30\n"
     ]
    }
   ],
   "source": [
    "df = pd.DataFrame(so2_values)\n",
    "print(\"SO2\")\n",
    "print(df)\n",
    "\n",
    "print()\n",
    "\n",
    "df = pd.DataFrame(co_values)\n",
    "print(\"CO\")\n",
    "print(df)"
   ]
  },
  {
   "cell_type": "code",
   "execution_count": 101,
   "metadata": {},
   "outputs": [],
   "source": [
    "browser.close()"
   ]
  }
 ],
 "metadata": {
  "kernelspec": {
   "display_name": "Python 3",
   "language": "python",
   "name": "python3"
  },
  "language_info": {
   "codemirror_mode": {
    "name": "ipython",
    "version": 3
   },
   "file_extension": ".py",
   "mimetype": "text/x-python",
   "name": "python",
   "nbconvert_exporter": "python",
   "pygments_lexer": "ipython3",
   "version": "3.7.1"
  }
 },
 "nbformat": 4,
 "nbformat_minor": 2
}
