{
 "cells": [
  {
   "cell_type": "markdown",
   "metadata": {
    "colab_type": "text",
    "id": "I8CoX4R7VoCd"
   },
   "source": [
    "# 反爬：代理伺服器/IP\n",
    "\n",
    "* 了解「IP 黑/白名單」的反爬蟲機制\n",
    "* 「IP 黑/白名單」反爬蟲的因應策略"
   ]
  },
  {
   "cell_type": "markdown",
   "metadata": {
    "colab_type": "text",
    "id": "n-3DZ_r5VoCe"
   },
   "source": [
    "## 作業目標\n",
    "\n",
    "* 目前程式中的 proxy_ips 是手動輸入的，請根據 https://free-proxy-list.net/ 寫一個可自動化抓取可用 Proxy 的 proxy_ips。\n",
    "\n",
    "\n"
   ]
  },
  {
   "cell_type": "code",
   "execution_count": 45,
   "metadata": {},
   "outputs": [],
   "source": [
    "import requests\n",
    "import random\n",
    "from bs4 import BeautifulSoup"
   ]
  },
  {
   "cell_type": "code",
   "execution_count": 46,
   "metadata": {
    "colab": {},
    "colab_type": "code",
    "id": "iny-9heBVoCf"
   },
   "outputs": [
    {
     "data": {
      "text/plain": [
       "['157.230.32.207:3128',\n",
       " '176.36.111.9:61102',\n",
       " '118.200.73.124:8080',\n",
       " '165.227.77.10:3128',\n",
       " '200.89.159.192:80',\n",
       " '188.169.123.54:8080',\n",
       " '200.89.178.177:80',\n",
       " '81.190.208.52:38264',\n",
       " '194.79.20.30:8080',\n",
       " '109.75.47.248:53422']"
      ]
     },
     "execution_count": 46,
     "metadata": {},
     "output_type": "execute_result"
    }
   ],
   "source": [
    "proxy_ips = []\n",
    "\n",
    "url = 'https://free-proxy-list.net/'\n",
    "res = requests.get(url, verify = True)\n",
    "soup = BeautifulSoup(res.text, 'lxml')\n",
    "rows = soup.find('tbody').find_all('tr')\n",
    "\n",
    "for i, row in enumerate(rows):\n",
    "    if i<10:\n",
    "        proxy_ips.append(row.find('td').text + ':' +str(row.find('td').next_sibling.text))\n",
    "\n",
    "proxy_ips"
   ]
  },
  {
   "cell_type": "code",
   "execution_count": 47,
   "metadata": {
    "colab": {},
    "colab_type": "code",
    "id": "75dIsHjiVoCi",
    "scrolled": false
   },
   "outputs": [
    {
     "name": "stdout",
     "output_type": "stream",
     "text": [
      "Use 157.230.32.207:3128\n",
      "Your IP address: 157.230.32.207\n",
      "Use 157.230.32.207:3128\n",
      "Your IP address: 157.230.32.207\n",
      "Use 157.230.32.207:3128\n",
      "Your IP address: 157.230.32.207\n",
      "Use 194.79.20.30:8080\n",
      "Fail\n",
      "Use 200.89.178.177:80\n",
      "Fail\n",
      "Use 200.89.159.192:80\n",
      "Your IP address: 200.89.159.192\n",
      "Use 165.227.77.10:3128\n",
      "Your IP address: 165.227.77.10\n",
      "Use 200.89.178.177:80\n",
      "Your IP address: 200.89.178.177\n",
      "Use 200.89.178.177:80\n",
      "Your IP address: 200.89.178.177\n",
      "Use 176.36.111.9:61102\n",
      "Fail\n"
     ]
    }
   ],
   "source": [
    "for i in range(10):\n",
    "    ip = random.choice(proxy_ips)\n",
    "    print('Use', ip)\n",
    "    try:\n",
    "        resp = requests.get('http://ip.filefab.com/index.php',\n",
    "                        proxies={'http': ip, 'https': ip}, timeout=10)\n",
    "        soup = BeautifulSoup(resp.text, 'html5lib')\n",
    "        print(soup.find('h1', id='ipd').text.strip())\n",
    "    except:\n",
    "        print('Fail')"
   ]
  }
 ],
 "metadata": {
  "colab": {
   "name": "homework.ipynb",
   "provenance": []
  },
  "kernelspec": {
   "display_name": "Python 3",
   "language": "python",
   "name": "python3"
  },
  "language_info": {
   "codemirror_mode": {
    "name": "ipython",
    "version": 3
   },
   "file_extension": ".py",
   "mimetype": "text/x-python",
   "name": "python",
   "nbconvert_exporter": "python",
   "pygments_lexer": "ipython3",
   "version": "3.7.1"
  }
 },
 "nbformat": 4,
 "nbformat_minor": 1
}
