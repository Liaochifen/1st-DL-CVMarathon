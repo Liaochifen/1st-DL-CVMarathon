{
 "cells": [
  {
   "cell_type": "markdown",
   "metadata": {},
   "source": [
    "# 加速：非同步爬蟲\n",
    "\n",
    "* 了解非同步爬蟲加速原理與實作"
   ]
  },
  {
   "cell_type": "markdown",
   "metadata": {},
   "source": [
    "## 作業目標\n",
    "\n",
    "* 比較一下非同步爬蟲跟多線程爬蟲的差異是什麼？各自的優缺點為何？"
   ]
  },
  {
   "cell_type": "markdown",
   "metadata": {
    "scrolled": true
   },
   "source": [
    "### 差異\n",
    "- 非同步爬蟲中的所有工作項目都是在同一個線程之下執行，每個工作項目之間不一定有相互依賴關係，由設計者決定作項目間的執行順序與是否需要等待其他工作項目執行完畢。\n",
    "- 多線程爬蟲是指同時啟動多個線程，各自獨立執行\n",
    "\n",
    "### 優缺點\n",
    "- 非同步爬蟲\n",
    "    - 優點：不必使用共享變數，降低死鎖的可能性、對系統的負擔較多線程小\n",
    "    - 缺點：設計方式較複雜\n",
    "- 多線程爬蟲\n",
    "    - 優點：每個執行緒中的程式運作是依序執行，較不容易錯亂、設計方式較簡單\n",
    "    - 缺點：多個執行緒執行時需要大量的切換，容易造成系統的負擔、共享變數可能出現死所的狀況"
   ]
  }
 ],
 "metadata": {
  "colab": {
   "name": "homework.ipynb",
   "provenance": []
  },
  "kernelspec": {
   "display_name": "Python 3",
   "language": "python",
   "name": "python3"
  },
  "language_info": {
   "codemirror_mode": {
    "name": "ipython",
    "version": 3
   },
   "file_extension": ".py",
   "mimetype": "text/x-python",
   "name": "python",
   "nbconvert_exporter": "python",
   "pygments_lexer": "ipython3",
   "version": "3.7.1"
  }
 },
 "nbformat": 4,
 "nbformat_minor": 1
}
